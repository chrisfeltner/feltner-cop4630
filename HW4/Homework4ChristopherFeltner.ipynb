{
  "nbformat": 4,
  "nbformat_minor": 0,
  "metadata": {
    "colab": {
      "name": "Homework4ChristopherFeltner.ipynb",
      "provenance": [],
      "collapsed_sections": [],
      "include_colab_link": true
    },
    "kernelspec": {
      "name": "python3",
      "display_name": "Python 3"
    },
    "accelerator": "GPU"
  },
  "cells": [
    {
      "cell_type": "markdown",
      "metadata": {
        "id": "view-in-github",
        "colab_type": "text"
      },
      "source": [
        "<a href=\"https://colab.research.google.com/github/chrisfeltner/feltner-cop4630/blob/master/HW4/Homework4ChristopherFeltner.ipynb\" target=\"_parent\"><img src=\"https://colab.research.google.com/assets/colab-badge.svg\" alt=\"Open In Colab\"/></a>"
      ]
    },
    {
      "cell_type": "markdown",
      "metadata": {
        "id": "nJlmaUSqsuAO",
        "colab_type": "text"
      },
      "source": [
        "#Homework 4\n",
        "##Christopher Feltner"
      ]
    },
    {
      "cell_type": "markdown",
      "metadata": {
        "id": "DMIERZfMs1Ug",
        "colab_type": "text"
      },
      "source": [
        "#Part 1: General Concepts"
      ]
    },
    {
      "cell_type": "markdown",
      "metadata": {
        "id": "9w-6ij8cyk_K",
        "colab_type": "text"
      },
      "source": [
        "##Artificial Intelligence\n",
        "###\"The science and technology of making intelligent machines\"\n",
        "###A branch of computer science dealing with the simulation of intelligent behavior in computers\n",
        "\n",
        "Symbolic AI or GOFAI is a collection of AI methods which use high-level, manual representation of problems and logic. It is therefore heavily reliant on human intervention.\n",
        "\n"
      ]
    },
    {
      "cell_type": "markdown",
      "metadata": {
        "id": "y1EW-lcFzmUn",
        "colab_type": "text"
      },
      "source": [
        "##Machine Learning\n",
        "###A subset of AI\n",
        "Machine learning programs adjust themselves in response to data they have been exposed to. It is dynamic and does not require human intervention to learn, making it less reliant on human experts."
      ]
    },
    {
      "cell_type": "markdown",
      "metadata": {
        "id": "Qo-OLtLE0HGY",
        "colab_type": "text"
      },
      "source": [
        "##Deep Learning\n",
        "###A subset of machine learning\n",
        "Machine learning models with numerous hidden layers are used, with different layers learning different features of the data. This produces more accurate predictions from the data and allows the model to solve more difficult problems."
      ]
    },
    {
      "cell_type": "markdown",
      "metadata": {
        "id": "pydCx3m52YfG",
        "colab_type": "text"
      },
      "source": [
        "##Types of Machine Learning\n",
        "###Supervised Learning\n",
        "The model is provided with data which has been labelled (presumably by humans). The labelled data is then used during training of the model.\n",
        "###Unsupervised Learning\n",
        "The model is provided with an unlabelled dataset. The goal of the model is to identify meaningful patterns in the data. Because the data is unlabelled, the model must infer its own rules for categorizing the data.\n",
        "###Reinforcement Learning\n",
        "In reinforcement learning, the model is provided a means to interact with an environment (i.e. a game, a virtual environment) to produce data. A negative or positive incentive is applied to undesireable or desireable behavior (i.e. a negative incentive is applied to the model getting a game over screen in a videogame). The agent then learns to take action to maximize its reward."
      ]
    },
    {
      "cell_type": "markdown",
      "metadata": {
        "id": "EV7x_KWw4nsB",
        "colab_type": "text"
      },
      "source": [
        "##ML Terminology\n",
        "*   label -- what we wish for the model to predict\n",
        "*   feature -- an input variable\n",
        "*   example -- a particular instance of data\n",
        "*   training -- showing the model labelled examples in hopes that the model will learn the relationships between features and labels\n",
        "*   inference -- applying the trained model to unlabeled examples\n",
        "*   regression model -- a model which predicts continuous values\n",
        "*   classification model -- predicts discrete values\n",
        "*   loss -- a numerical measure of how bad a model's prediction was on an example\n",
        "*   Mean Squared Error (MSE) -- average squared loss for the entire dataset\n",
        "\n",
        "\n",
        "\n",
        "\n"
      ]
    },
    {
      "cell_type": "markdown",
      "metadata": {
        "id": "VcEhvUcX6Zg5",
        "colab_type": "text"
      },
      "source": [
        "#Part 2: Building a Model"
      ]
    },
    {
      "cell_type": "markdown",
      "metadata": {
        "id": "2GZvra3-6fdd",
        "colab_type": "text"
      },
      "source": [
        "###Neuron Structure\n",
        "Neurons take in the values of previous neurons connected to it multiplied by their weights as input, sums them, adds a bias, and then passes this result through an activation function as output.\n",
        "###Activation Functions\n",
        "The purpose of an activation function is to scale the output of a neuron to a value between 0 and 1\n",
        "####Sigmoid\n",
        "Sigmoid is often used for binary classification\n",
        "\\begin{equation}\n",
        "\\sigma = \\frac{1}{1+e^{-x}}\n",
        "\\end{equation}\n",
        "\n",
        "####Tanh\n",
        "\\begin{equation}\n",
        "\\tanh{x}\n",
        "\\end{equation}\n",
        "\n",
        "####ReLU\n",
        "ReLU is often used in hidden layers\n",
        "\\begin{equation}\n",
        "\\max(0, x)\n",
        "\\end{equation}\n",
        "\n",
        "####Leaky ReLU\n",
        "\\begin{equation}\n",
        "\\max(0.1x,x)\n",
        "\\end{equation}\n",
        "\n",
        "####Softmax\n",
        "An activation function used for classifying into non-binary categories, which outputs a probability distribution\n",
        "\n",
        "\n"
      ]
    },
    {
      "cell_type": "markdown",
      "metadata": {
        "id": "4QJamXNEAA5x",
        "colab_type": "text"
      },
      "source": [
        "###Sequential Neural Network with Dense Layers\n",
        "Each neuron in a layer are connected to each neuron in the next layer. Each neuron after the first layer recieves as input all outputs from every neuron in the previous layer.\n"
      ]
    },
    {
      "cell_type": "code",
      "metadata": {
        "id": "a4_aVupEAdza",
        "colab_type": "code",
        "colab": {}
      },
      "source": [
        "from keras.model import Sequential\n",
        "model = Sequential();\n",
        "model.add(Dense(5, input_dim=5, activation='relu'))\n",
        "model.add(Dense(4, activation='relu'))\n",
        "model.add(Dense(1, activation='sigmoid'))"
      ],
      "execution_count": 0,
      "outputs": []
    },
    {
      "cell_type": "markdown",
      "metadata": {
        "id": "uvdMogooG7yk",
        "colab_type": "text"
      },
      "source": [
        "###Convolutional Neural Network\n",
        "A convolutional neural network is used to classify images. A convnet is structured in two parts: a network of convolutional and pooling layers which learn the features of images, and a fully connected network to classify images based on the output of the convolutional layers."
      ]
    },
    {
      "cell_type": "markdown",
      "metadata": {
        "id": "wSF0tihAHVMj",
        "colab_type": "text"
      },
      "source": [
        "###Feature Network\n",
        "####Convolutional Layers\n",
        "In a convolutional layer, feature maps slide over the image horizontally and vertically one pixel at a time and the convolution operation is used, which produces a new output feature map. During training, the CNN learns the optimal values for the feature maps to extract meaningful features from the images.\n",
        "####Pooling Layers\n",
        "Pooling layers are used to downsample feature maps while retaining feature information. Typically, maxpooling is used, where the maximum value of the feature map is output to a new feature map and the remaining values are discarded."
      ]
    },
    {
      "cell_type": "markdown",
      "metadata": {
        "id": "M9EO8OkQKWqg",
        "colab_type": "text"
      },
      "source": [
        "###Fully Connected Network\n",
        "The fully connected network takes in the flattened feature vector from the convolutional network as input and classifies the image."
      ]
    },
    {
      "cell_type": "markdown",
      "metadata": {
        "id": "N3xDTuxtKmI1",
        "colab_type": "text"
      },
      "source": [
        "###Keras Convnet Example"
      ]
    },
    {
      "cell_type": "code",
      "metadata": {
        "id": "EKvlrU77KxJc",
        "colab_type": "code",
        "colab": {}
      },
      "source": [
        "model = Sequential()\n",
        "#Convolutional Part\n",
        "model.add(Conv2D(32, kernel_size=(3,3), activation='relu', input_shape=(1, 28, 28)))\n",
        "model.add(Conv2D(64, activation='relu'))\n",
        "model.add(MaxPooling(pool_size=(2, 2)))\n",
        "#Fully Connected Part\n",
        "model.add(Flatten())\n",
        "model.add(Dense(128, activation='relu'))\n",
        "model.add(Dense(10, activation='softmax'))"
      ],
      "execution_count": 0,
      "outputs": []
    },
    {
      "cell_type": "markdown",
      "metadata": {
        "id": "1mOLOGrGL2R6",
        "colab_type": "text"
      },
      "source": [
        "#Part 3: Compiling a Model"
      ]
    },
    {
      "cell_type": "markdown",
      "metadata": {
        "id": "Fi2Ncft6L48r",
        "colab_type": "text"
      },
      "source": [
        "##Optimization\n",
        "Optimizers updates the model in response to the results of the loss function. A machine learning model is initialized with random values for the weights and biases. The optimizer is the function used to update the weights and biases during training in order to produce better results, in an effort to find the weights and biases which produce the lowest possible loss\n",
        "###Gradient Descent\n",
        "Gradient Descent is an optimizer. With each time step, the model's weights are adjusted in the direction of their negative gradient. The adjustment size is the learning rate.\n",
        "###Stochastic Gradient Descent\n",
        "Wheras in Gradient Descent, where all training examples are used for each training step, in the SGD optimizer only a subset of the training examples are used, which is defined by the batch size, in order to produce training results faster.\n",
        "##Compilation Parameters Used in Training\n",
        "###Hyperparameters\n",
        "Hyperparameters are parameters which are set before training that can be used to tune the model during training. They are usually set manually by the engineer. Learning rate is an example of a hyperparameter.\n",
        "###Learning Rate\n",
        "The learning rate is the amount that the model's weights are changed at each time step. If the learning rate is too large, the model could diverge and never end up finding a local minimum of the loss function. If the learning rate is too small, the model will take too long to train and will not be able to find a local minimum of the loss because it is training too slowly.\n",
        "###Loss Function\n",
        "The function which defines how well the model is performing. It is used during training to adjust the weights. Commonly used losses include Mean Squared Error and Categorical Crossentropy.\n",
        "###Regularization\n",
        "The goal of regularization is to prevent overfitting. Part of the loss function penalizes large weight values, even if the prediction is correct. This helps the model to generalize better.\n",
        "\n",
        "\n"
      ]
    },
    {
      "cell_type": "markdown",
      "metadata": {
        "id": "98NExXjqQZF5",
        "colab_type": "text"
      },
      "source": [
        "##Compiling a Model\n",
        "This model will train using Mean Squared Error as the loss function, a learning rate of 0.01, and Stochastic Gradient Descent as the optimizer."
      ]
    },
    {
      "cell_type": "code",
      "metadata": {
        "id": "_-6JSopKQYd5",
        "colab_type": "code",
        "colab": {}
      },
      "source": [
        "model.compile(loss=losses.mean_squared_error, lr=0.01, optimizer='sgd')"
      ],
      "execution_count": 0,
      "outputs": []
    },
    {
      "cell_type": "markdown",
      "metadata": {
        "id": "gE7fYn5YQ-t1",
        "colab_type": "text"
      },
      "source": [
        "#Part 4: Training\n",
        "Training is the process where the model is exposed to the training data in an effort to find optimal values for the weights/biases/filters"
      ]
    },
    {
      "cell_type": "markdown",
      "metadata": {
        "id": "1LKKntHTROvq",
        "colab_type": "text"
      },
      "source": [
        "##Overfitting\n",
        "When a model learns features which are too specific to the training data and is unable to generalize well to testing data. Training loss/accuracy continues to increase but validation loss/accuracy fails to improve. This happens when a model is too complex for the training data. Having too many training epochs can also cause the model to overfit."
      ]
    },
    {
      "cell_type": "markdown",
      "metadata": {
        "id": "GT-BPbrSTPkj",
        "colab_type": "text"
      },
      "source": [
        "###Overfitting Model"
      ]
    },
    {
      "cell_type": "code",
      "metadata": {
        "id": "VaoR04yDTRjs",
        "colab_type": "code",
        "colab": {
          "base_uri": "https://localhost:8080/",
          "height": 1000
        },
        "outputId": "93f5d395-a351-4051-ff15-3899ac4e82e3"
      },
      "source": [
        "import tensorflow as tf\n",
        "from tensorflow import keras\n",
        "\n",
        "fashion_mnist = keras.datasets.fashion_mnist\n",
        "\n",
        "(train_images, train_labels), (test_images, test_labels) = fashion_mnist.load_data()\n",
        "\n",
        "model = keras.Sequential([\n",
        "    keras.layers.Flatten(input_shape=(28, 28)),\n",
        "    keras.layers.Dense(512, activation=tf.nn.relu),\n",
        "    keras.layers.Dense(512, activation=tf.nn.relu),\n",
        "    keras.layers.Dense(512, activation=tf.nn.relu),\n",
        "    keras.layers.Dense(512, activation=tf.nn.relu),\n",
        "    keras.layers.Dense(10, activation=tf.nn.softmax)\n",
        "])\n",
        "\n",
        "model.compile(optimizer='adam',\n",
        "             loss='sparse_categorical_crossentropy',\n",
        "             metrics=['accuracy'])\n",
        "\n",
        "\n",
        "epochs = 30\n",
        "history = model.fit(train_images, \n",
        "                      train_labels, \n",
        "                      epochs=epochs,  \n",
        "                      validation_data=(test_images, test_labels))\n",
        "\n",
        "history_dict = history.history\n",
        "loss_values = history_dict['loss']\n",
        "test_loss_values = history_dict['val_loss']\n",
        "epochs_range = range(1, epochs+1)\n",
        "\n",
        "import matplotlib.pyplot as plt\n",
        "\n",
        "plt.plot(epochs_range, loss_values, 'bo', label='Training loss')\n",
        "plt.plot(epochs_range, test_loss_values, 'ro', label='Test loss')\n",
        "plt.title('Training and test loss')\n",
        "plt.xlabel('Epochs')\n",
        "plt.ylabel('Loss')\n",
        "plt.legend()\n",
        "plt.show()"
      ],
      "execution_count": 2,
      "outputs": [
        {
          "output_type": "stream",
          "text": [
            "Train on 60000 samples, validate on 10000 samples\n",
            "Epoch 1/30\n",
            "60000/60000 [==============================] - 5s 79us/sample - loss: 1.1575 - acc: 0.7882 - val_loss: 0.5025 - val_acc: 0.8242\n",
            "Epoch 2/30\n",
            "60000/60000 [==============================] - 5s 78us/sample - loss: 0.4602 - acc: 0.8376 - val_loss: 0.6033 - val_acc: 0.7886\n",
            "Epoch 3/30\n",
            "60000/60000 [==============================] - 5s 77us/sample - loss: 0.4208 - acc: 0.8509 - val_loss: 0.4127 - val_acc: 0.8516\n",
            "Epoch 4/30\n",
            "60000/60000 [==============================] - 5s 78us/sample - loss: 0.3905 - acc: 0.8605 - val_loss: 0.4240 - val_acc: 0.8540\n",
            "Epoch 5/30\n",
            "60000/60000 [==============================] - 5s 78us/sample - loss: 0.3716 - acc: 0.8688 - val_loss: 0.4358 - val_acc: 0.8505\n",
            "Epoch 6/30\n",
            "60000/60000 [==============================] - 5s 78us/sample - loss: 0.3546 - acc: 0.8745 - val_loss: 0.4059 - val_acc: 0.8548\n",
            "Epoch 7/30\n",
            "60000/60000 [==============================] - 5s 78us/sample - loss: 0.3489 - acc: 0.8763 - val_loss: 0.4376 - val_acc: 0.8492\n",
            "Epoch 8/30\n",
            "60000/60000 [==============================] - 5s 77us/sample - loss: 0.3385 - acc: 0.8792 - val_loss: 0.3887 - val_acc: 0.8698\n",
            "Epoch 9/30\n",
            "60000/60000 [==============================] - 5s 76us/sample - loss: 0.3222 - acc: 0.8842 - val_loss: 0.4017 - val_acc: 0.8662\n",
            "Epoch 10/30\n",
            "60000/60000 [==============================] - 5s 77us/sample - loss: 0.3127 - acc: 0.8871 - val_loss: 0.4226 - val_acc: 0.8526\n",
            "Epoch 11/30\n",
            "60000/60000 [==============================] - 5s 78us/sample - loss: 0.3097 - acc: 0.8888 - val_loss: 0.3761 - val_acc: 0.8759\n",
            "Epoch 12/30\n",
            "60000/60000 [==============================] - 5s 78us/sample - loss: 0.3103 - acc: 0.8903 - val_loss: 0.3783 - val_acc: 0.8693\n",
            "Epoch 13/30\n",
            "60000/60000 [==============================] - 5s 79us/sample - loss: 0.2942 - acc: 0.8931 - val_loss: 0.3972 - val_acc: 0.8797\n",
            "Epoch 14/30\n",
            "60000/60000 [==============================] - 5s 80us/sample - loss: 0.2864 - acc: 0.8968 - val_loss: 0.4199 - val_acc: 0.8570\n",
            "Epoch 15/30\n",
            "60000/60000 [==============================] - 5s 80us/sample - loss: 0.2871 - acc: 0.8966 - val_loss: 0.3995 - val_acc: 0.8746\n",
            "Epoch 16/30\n",
            "60000/60000 [==============================] - 5s 78us/sample - loss: 0.2840 - acc: 0.8985 - val_loss: 0.3706 - val_acc: 0.8730\n",
            "Epoch 17/30\n",
            "60000/60000 [==============================] - 5s 78us/sample - loss: 0.2743 - acc: 0.9013 - val_loss: 0.4089 - val_acc: 0.8718\n",
            "Epoch 18/30\n",
            "60000/60000 [==============================] - 5s 79us/sample - loss: 0.2832 - acc: 0.8996 - val_loss: 0.4101 - val_acc: 0.8757\n",
            "Epoch 19/30\n",
            "60000/60000 [==============================] - 5s 77us/sample - loss: 0.2797 - acc: 0.9004 - val_loss: 0.4930 - val_acc: 0.8767\n",
            "Epoch 20/30\n",
            "60000/60000 [==============================] - 5s 77us/sample - loss: 0.2680 - acc: 0.9024 - val_loss: 0.4050 - val_acc: 0.8755\n",
            "Epoch 21/30\n",
            "60000/60000 [==============================] - 5s 77us/sample - loss: 0.2553 - acc: 0.9075 - val_loss: 0.4479 - val_acc: 0.8797\n",
            "Epoch 22/30\n",
            "60000/60000 [==============================] - 5s 77us/sample - loss: 0.2948 - acc: 0.9031 - val_loss: 0.4424 - val_acc: 0.8682\n",
            "Epoch 23/30\n",
            "60000/60000 [==============================] - 5s 76us/sample - loss: 0.2669 - acc: 0.9050 - val_loss: 0.4217 - val_acc: 0.8771\n",
            "Epoch 24/30\n",
            "60000/60000 [==============================] - 5s 77us/sample - loss: 0.2528 - acc: 0.9078 - val_loss: 0.4477 - val_acc: 0.8814\n",
            "Epoch 25/30\n",
            "60000/60000 [==============================] - 5s 78us/sample - loss: 0.2624 - acc: 0.9065 - val_loss: 0.3897 - val_acc: 0.8756\n",
            "Epoch 26/30\n",
            "60000/60000 [==============================] - 5s 77us/sample - loss: 0.2473 - acc: 0.9115 - val_loss: 0.4984 - val_acc: 0.8829\n",
            "Epoch 27/30\n",
            "60000/60000 [==============================] - 5s 78us/sample - loss: 0.2487 - acc: 0.9102 - val_loss: 0.7341 - val_acc: 0.8744\n",
            "Epoch 28/30\n",
            "60000/60000 [==============================] - 5s 77us/sample - loss: 0.2586 - acc: 0.9080 - val_loss: 0.7879 - val_acc: 0.8677\n",
            "Epoch 29/30\n",
            "60000/60000 [==============================] - 5s 78us/sample - loss: 0.2431 - acc: 0.9125 - val_loss: 0.6355 - val_acc: 0.8772\n",
            "Epoch 30/30\n",
            "60000/60000 [==============================] - 5s 77us/sample - loss: 0.2489 - acc: 0.9119 - val_loss: 0.6421 - val_acc: 0.8771\n"
          ],
          "name": "stdout"
        },
        {
          "output_type": "display_data",
          "data": {
            "image/png": "[encoded data removed]",
            "text/plain": [
              "<Figure size 432x288 with 1 Axes>"
            ]
          },
          "metadata": {
            "tags": []
          }
        }
      ]
    },
    {
      "cell_type": "markdown",
      "metadata": {
        "id": "mWINkYbYUGWN",
        "colab_type": "text"
      },
      "source": [
        "##Underfitting\n",
        "A model is too simple and is unable to describe the data, or was not trained in such a way that it learns the optimal weights. This can happen when there are too few trainable parameters to describe the number of features in the data or when there are too few training epochs."
      ]
    },
    {
      "cell_type": "markdown",
      "metadata": {
        "id": "jA5EOrt0VpSz",
        "colab_type": "text"
      },
      "source": [
        "##Ways of Fighting Overfitting\n",
        "###Dropout\n",
        "Dropout ignores a certain percentage of neurons, chosen at random, in a forwards or backwards pass, meaning that other neurons will need to \"pick up the slack\" and learn some of the features known by the dropped out neurons. This prevents some neurons from gaining too much power in the prediction, and develops co-dependency among the neurons."
      ]
    },
    {
      "cell_type": "code",
      "metadata": {
        "id": "pM-_IRTXWZV8",
        "colab_type": "code",
        "colab": {}
      },
      "source": [
        "model = Sequential()\n",
        "model.add(Dense(10, activation='relu'))\n",
        "#Dropout 50% of neurons\n",
        "model.add(Dropout(0.5))\n",
        "model.add(Dense(5, activation='softmax'))"
      ],
      "execution_count": 0,
      "outputs": []
    },
    {
      "cell_type": "markdown",
      "metadata": {
        "id": "1W43WN7DWzFr",
        "colab_type": "text"
      },
      "source": [
        "###Data Augmentation\n",
        "Another way of fighting overfitting is to add more training and validation data. A way of simulating new data without actually collecting new data is to use data augmentation: slightly altering data without changing the features. For example, in image data, a researcher could crop, horizontally flip, or pad the images."
      ]
    },
    {
      "cell_type": "markdown",
      "metadata": {
        "id": "_9nq86r0XNyM",
        "colab_type": "text"
      },
      "source": [
        "#Part 5: Finetuning a Trained Model\n",
        "A pretrained model can be used as a base for a classifier of a set of classes different than the original model was trained for. This is because complex models, such as NASNet or InceptionV3, extract features which are common to most images and generalize well in their top layers. To make this new model, we add a new classifier to the end of the pretraiend model. Fine tuning requires two stages. In the first, we train a the combined model, but freeze the layers of the base model in order to train the classifier. Next, we unfreeze some of the layers near the end of the base model and train them in conjunction with the classifier in order to extract features specific to the new classes."
      ]
    },
    {
      "cell_type": "markdown",
      "metadata": {
        "id": "LH4aPTi1a3jx",
        "colab_type": "text"
      },
      "source": [
        "##Freezing\n",
        "Freezing a layer means to prevent it from training. Here is how we can freeze a layer in Keras:"
      ]
    },
    {
      "cell_type": "code",
      "metadata": {
        "id": "dwWKFcL2bAFO",
        "colab_type": "code",
        "colab": {}
      },
      "source": [
        "for layer in model.layers[:249]:\n",
        "   layer.trainable = False"
      ],
      "execution_count": 0,
      "outputs": []
    },
    {
      "cell_type": "markdown",
      "metadata": {
        "id": "3ojw_si7bGbC",
        "colab_type": "text"
      },
      "source": [
        "##Fine Tuning: Part One\n",
        "We add a classifier (implemented as a fully connected layer) to the end of our base model. Then, we freeze the layers in our base model, only training our classifier on the results of the original base model using the new data with ten classes."
      ]
    },
    {
      "cell_type": "code",
      "metadata": {
        "id": "VyTtBewdbS6j",
        "colab_type": "code",
        "colab": {}
      },
      "source": [
        "base_model = InceptionV3(weights='imagenet', include_top=False)\n",
        "model = Sequential()\n",
        "model.add(base_model)\n",
        "model.add(Dense(32, activation='relu'))\n",
        "model.add(Dense(10, activation='softmax'))\n",
        "#Freeze base model\n",
        "base_model.trainable=False\n",
        "\n",
        "model.compile(loss='categorical_crossentropy', optimizer=optimizers.RMSprop())\n"
      ],
      "execution_count": 0,
      "outputs": []
    },
    {
      "cell_type": "markdown",
      "metadata": {
        "id": "fRx1429TcLot",
        "colab_type": "text"
      },
      "source": [
        "##Fine Tuning: Part Two\n",
        "Now that our classifier has been trained on the output from the base model, we unfreeze some of the base model's layers and train it jointly with the classifier."
      ]
    },
    {
      "cell_type": "code",
      "metadata": {
        "id": "xQczC55ccrWZ",
        "colab_type": "code",
        "colab": {}
      },
      "source": [
        "for layer in model.layers[:249]:\n",
        "   layer.trainable = False\n",
        "for layer in model.layers[249:]:\n",
        "   layer.trainable = True\n",
        "\n",
        "model.compile(loss='categorical_crossentropy', optimizer=optimizers.RMSprop())"
      ],
      "execution_count": 0,
      "outputs": []
    }
  ]
}