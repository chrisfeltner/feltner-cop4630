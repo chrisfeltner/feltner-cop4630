{
  "nbformat": 4,
  "nbformat_minor": 0,
  "metadata": {
    "colab": {
      "name": "ChristopherFeltnerHomework2Problem3.ipynb",
      "provenance": [],
      "collapsed_sections": [],
      "include_colab_link": true
    },
    "kernelspec": {
      "name": "python3",
      "display_name": "Python 3"
    },
    "accelerator": "GPU"
  },
  "cells": [
    {
      "cell_type": "markdown",
      "metadata": {
        "id": "view-in-github",
        "colab_type": "text"
      },
      "source": [
        "<a href=\"https://colab.research.google.com/github/chrisfeltner/feltner-cop4630/blob/master/HW2/ChristopherFeltnerHomework2Problem3.ipynb\" target=\"_parent\"><img src=\"https://colab.research.google.com/assets/colab-badge.svg\" alt=\"Open In Colab\"/></a>"
      ]
    },
    {
      "cell_type": "markdown",
      "metadata": {
        "id": "ltA_FMGp-5UR",
        "colab_type": "text"
      },
      "source": [
        "#Homework 2\n",
        "##Problem 3\n",
        "##Christopher Feltner"
      ]
    },
    {
      "cell_type": "code",
      "metadata": {
        "id": "U4lcCMH1KC8R",
        "colab_type": "code",
        "outputId": "b67c3328-550b-4bac-de98-73b67184e01c",
        "colab": {
          "base_uri": "https://localhost:8080/",
          "height": 34
        }
      },
      "source": [
        "from keras.datasets import cifar10\n",
        "(train_images, train_labels), (test_images, test_labels) = cifar10.load_data()\n",
        "\n",
        "from keras.utils import to_categorical\n",
        "train_labels = to_categorical(train_labels)\n",
        "test_labels = to_categorical(test_labels)\n",
        "print(train_labels.shape)\n",
        "\n",
        "train_images = train_images.reshape((50000, 32, 32, 3)) / 255\n",
        "test_images = test_images.reshape((10000, 32, 32, 3)) / 255"
      ],
      "execution_count": 0,
      "outputs": [
        {
          "output_type": "stream",
          "text": [
            "(50000, 10)\n"
          ],
          "name": "stdout"
        }
      ]
    },
    {
      "cell_type": "code",
      "metadata": {
        "id": "8PnssfF0hPpd",
        "colab_type": "code",
        "colab": {}
      },
      "source": [
        "from keras import layers\n",
        "from keras import models"
      ],
      "execution_count": 0,
      "outputs": []
    },
    {
      "cell_type": "markdown",
      "metadata": {
        "id": "JX0InYBp_HXQ",
        "colab_type": "text"
      },
      "source": [
        "## Pretty-good model\n",
        "### Uses dropout to fight overfitting"
      ]
    },
    {
      "cell_type": "code",
      "metadata": {
        "id": "RmMEoUUmlNVe",
        "colab_type": "code",
        "outputId": "96849499-68e4-40fa-ebf5-3f0a10f5cc1a",
        "colab": {
          "base_uri": "https://localhost:8080/",
          "height": 527
        }
      },
      "source": [
        "model = models.Sequential()\n",
        "\n",
        "model.add(layers.Conv2D(32, (3, 3), activation='relu', input_shape=(32, 32, 3)))\n",
        "model.add(layers.MaxPooling2D((2, 2)))\n",
        "model.add(layers.Dropout(0.2))\n",
        "model.add(layers.Conv2D(64, (3, 3), activation='relu'))\n",
        "model.add(layers.MaxPooling2D((2, 2)))\n",
        "model.add(layers.Dropout(0.2))\n",
        "model.add(layers.Conv2D(64, (3, 3), activation='relu'))\n",
        "model.add(layers.Dropout(0.5))\n",
        "model.add(layers.Flatten())\n",
        "model.add(layers.Dense(64, activation='relu'))\n",
        "model.add(layers.Dense(10, activation='softmax'))\n",
        "\n",
        "model.compile(loss='categorical_crossentropy', optimizer='adam', \n",
        "              metrics=['accuracy'])\n",
        "\n",
        "model.summary()\n"
      ],
      "execution_count": 0,
      "outputs": [
        {
          "output_type": "stream",
          "text": [
            "Model: \"sequential_22\"\n",
            "_________________________________________________________________\n",
            "Layer (type)                 Output Shape              Param #   \n",
            "=================================================================\n",
            "conv2d_65 (Conv2D)           (None, 30, 30, 32)        896       \n",
            "_________________________________________________________________\n",
            "max_pooling2d_48 (MaxPooling (None, 15, 15, 32)        0         \n",
            "_________________________________________________________________\n",
            "dropout_22 (Dropout)         (None, 15, 15, 32)        0         \n",
            "_________________________________________________________________\n",
            "conv2d_66 (Conv2D)           (None, 13, 13, 64)        18496     \n",
            "_________________________________________________________________\n",
            "max_pooling2d_49 (MaxPooling (None, 6, 6, 64)          0         \n",
            "_________________________________________________________________\n",
            "dropout_23 (Dropout)         (None, 6, 6, 64)          0         \n",
            "_________________________________________________________________\n",
            "conv2d_67 (Conv2D)           (None, 4, 4, 64)          36928     \n",
            "_________________________________________________________________\n",
            "dropout_24 (Dropout)         (None, 4, 4, 64)          0         \n",
            "_________________________________________________________________\n",
            "flatten_17 (Flatten)         (None, 1024)              0         \n",
            "_________________________________________________________________\n",
            "dense_34 (Dense)             (None, 64)                65600     \n",
            "_________________________________________________________________\n",
            "dense_35 (Dense)             (None, 10)                650       \n",
            "=================================================================\n",
            "Total params: 122,570\n",
            "Trainable params: 122,570\n",
            "Non-trainable params: 0\n",
            "_________________________________________________________________\n"
          ],
          "name": "stdout"
        }
      ]
    },
    {
      "cell_type": "code",
      "metadata": {
        "id": "_OgqBcoTo0RC",
        "colab_type": "code",
        "outputId": "e0419ba7-79f6-4154-8d52-58775a07d0ff",
        "colab": {
          "base_uri": "https://localhost:8080/",
          "height": 1000
        }
      },
      "source": [
        "epochs = 35\n",
        "\n",
        "history = model.fit(train_images, train_labels, epochs=epochs, \n",
        "                    validation_data=(test_images, test_labels))"
      ],
      "execution_count": 0,
      "outputs": [
        {
          "output_type": "stream",
          "text": [
            "Train on 50000 samples, validate on 10000 samples\n",
            "Epoch 1/35\n",
            "50000/50000 [==============================] - 12s 239us/step - loss: 1.6528 - acc: 0.3898 - val_loss: 1.3206 - val_acc: 0.5244\n",
            "Epoch 2/35\n",
            "50000/50000 [==============================] - 10s 204us/step - loss: 1.2992 - acc: 0.5316 - val_loss: 1.1816 - val_acc: 0.5858\n",
            "Epoch 3/35\n",
            "50000/50000 [==============================] - 10s 206us/step - loss: 1.1843 - acc: 0.5788 - val_loss: 1.0729 - val_acc: 0.6204\n",
            "Epoch 4/35\n",
            "50000/50000 [==============================] - 10s 202us/step - loss: 1.1064 - acc: 0.6076 - val_loss: 0.9759 - val_acc: 0.6543\n",
            "Epoch 5/35\n",
            "50000/50000 [==============================] - 10s 203us/step - loss: 1.0523 - acc: 0.6255 - val_loss: 0.9197 - val_acc: 0.6807\n",
            "Epoch 6/35\n",
            "50000/50000 [==============================] - 10s 205us/step - loss: 1.0103 - acc: 0.6415 - val_loss: 0.9331 - val_acc: 0.6690\n",
            "Epoch 7/35\n",
            "50000/50000 [==============================] - 10s 201us/step - loss: 0.9792 - acc: 0.6572 - val_loss: 0.8884 - val_acc: 0.6945\n",
            "Epoch 8/35\n",
            "50000/50000 [==============================] - 10s 200us/step - loss: 0.9499 - acc: 0.6635 - val_loss: 0.8777 - val_acc: 0.6893\n",
            "Epoch 9/35\n",
            "50000/50000 [==============================] - 10s 204us/step - loss: 0.9366 - acc: 0.6723 - val_loss: 0.8693 - val_acc: 0.6956\n",
            "Epoch 10/35\n",
            "50000/50000 [==============================] - 10s 206us/step - loss: 0.9215 - acc: 0.6764 - val_loss: 0.8914 - val_acc: 0.6890\n",
            "Epoch 11/35\n",
            "50000/50000 [==============================] - 10s 203us/step - loss: 0.8986 - acc: 0.6824 - val_loss: 0.8193 - val_acc: 0.7087\n",
            "Epoch 12/35\n",
            "50000/50000 [==============================] - 10s 201us/step - loss: 0.8884 - acc: 0.6872 - val_loss: 0.7965 - val_acc: 0.7187\n",
            "Epoch 13/35\n",
            "50000/50000 [==============================] - 10s 205us/step - loss: 0.8698 - acc: 0.6927 - val_loss: 0.7778 - val_acc: 0.7257\n",
            "Epoch 14/35\n",
            "50000/50000 [==============================] - 10s 210us/step - loss: 0.8605 - acc: 0.6987 - val_loss: 0.7891 - val_acc: 0.7265\n",
            "Epoch 15/35\n",
            "50000/50000 [==============================] - 10s 210us/step - loss: 0.8510 - acc: 0.6986 - val_loss: 0.7824 - val_acc: 0.7282\n",
            "Epoch 16/35\n",
            "50000/50000 [==============================] - 10s 205us/step - loss: 0.8391 - acc: 0.7050 - val_loss: 0.7821 - val_acc: 0.7269\n",
            "Epoch 17/35\n",
            "50000/50000 [==============================] - 10s 202us/step - loss: 0.8365 - acc: 0.7065 - val_loss: 0.7720 - val_acc: 0.7283\n",
            "Epoch 18/35\n",
            "50000/50000 [==============================] - 10s 205us/step - loss: 0.8235 - acc: 0.7107 - val_loss: 0.7625 - val_acc: 0.7332\n",
            "Epoch 19/35\n",
            "50000/50000 [==============================] - 10s 203us/step - loss: 0.8103 - acc: 0.7149 - val_loss: 0.7695 - val_acc: 0.7316\n",
            "Epoch 20/35\n",
            "50000/50000 [==============================] - 10s 202us/step - loss: 0.8047 - acc: 0.7165 - val_loss: 0.7315 - val_acc: 0.7427\n",
            "Epoch 21/35\n",
            "50000/50000 [==============================] - 10s 201us/step - loss: 0.7996 - acc: 0.7182 - val_loss: 0.7494 - val_acc: 0.7384\n",
            "Epoch 22/35\n",
            "50000/50000 [==============================] - 10s 208us/step - loss: 0.7890 - acc: 0.7204 - val_loss: 0.7868 - val_acc: 0.7278\n",
            "Epoch 23/35\n",
            "50000/50000 [==============================] - 10s 203us/step - loss: 0.7869 - acc: 0.7217 - val_loss: 0.7438 - val_acc: 0.7393\n",
            "Epoch 24/35\n",
            "50000/50000 [==============================] - 10s 203us/step - loss: 0.7825 - acc: 0.7238 - val_loss: 0.7394 - val_acc: 0.7437\n",
            "Epoch 25/35\n",
            "50000/50000 [==============================] - 10s 206us/step - loss: 0.7735 - acc: 0.7275 - val_loss: 0.7520 - val_acc: 0.7422\n",
            "Epoch 26/35\n",
            "50000/50000 [==============================] - 10s 200us/step - loss: 0.7637 - acc: 0.7307 - val_loss: 0.7464 - val_acc: 0.7422\n",
            "Epoch 27/35\n",
            "50000/50000 [==============================] - 10s 203us/step - loss: 0.7614 - acc: 0.7324 - val_loss: 0.7237 - val_acc: 0.7485\n",
            "Epoch 28/35\n",
            "50000/50000 [==============================] - 10s 202us/step - loss: 0.7586 - acc: 0.7335 - val_loss: 0.7381 - val_acc: 0.7448\n",
            "Epoch 29/35\n",
            "50000/50000 [==============================] - 10s 204us/step - loss: 0.7536 - acc: 0.7341 - val_loss: 0.7107 - val_acc: 0.7531\n",
            "Epoch 30/35\n",
            "50000/50000 [==============================] - 10s 207us/step - loss: 0.7444 - acc: 0.7385 - val_loss: 0.7164 - val_acc: 0.7547\n",
            "Epoch 31/35\n",
            "50000/50000 [==============================] - 10s 204us/step - loss: 0.7407 - acc: 0.7413 - val_loss: 0.7370 - val_acc: 0.7454\n",
            "Epoch 32/35\n",
            "50000/50000 [==============================] - 10s 202us/step - loss: 0.7374 - acc: 0.7420 - val_loss: 0.7460 - val_acc: 0.7441\n",
            "Epoch 33/35\n",
            "50000/50000 [==============================] - 10s 206us/step - loss: 0.7364 - acc: 0.7409 - val_loss: 0.6975 - val_acc: 0.7637\n",
            "Epoch 34/35\n",
            "50000/50000 [==============================] - 10s 205us/step - loss: 0.7334 - acc: 0.7430 - val_loss: 0.7200 - val_acc: 0.7526\n",
            "Epoch 35/35\n",
            "50000/50000 [==============================] - 10s 203us/step - loss: 0.7313 - acc: 0.7436 - val_loss: 0.7232 - val_acc: 0.7521\n"
          ],
          "name": "stdout"
        }
      ]
    },
    {
      "cell_type": "markdown",
      "metadata": {
        "id": "VoVjr_PaDUfh",
        "colab_type": "text"
      },
      "source": [
        "##\"Pretty Good\" Model Evaluation"
      ]
    },
    {
      "cell_type": "code",
      "metadata": {
        "id": "Z_lEeHRtAvWb",
        "colab_type": "code",
        "outputId": "c64827af-5fbe-47e2-cc63-7773ba1aaaa5",
        "colab": {
          "base_uri": "https://localhost:8080/",
          "height": 295
        }
      },
      "source": [
        "history_dict = history.history\n",
        "loss_values = history_dict['loss']\n",
        "test_loss_values = history_dict['val_loss']\n",
        "epochs_range = range(1, epochs+1)\n",
        "\n",
        "import matplotlib.pyplot as plt\n",
        "\n",
        "plt.plot(epochs_range, loss_values, 'bo', label='Training loss')\n",
        "plt.plot(epochs_range, test_loss_values, 'ro', label='Test loss')\n",
        "plt.title('Training and test loss')\n",
        "plt.xlabel('Epochs')\n",
        "plt.ylabel('Loss')\n",
        "plt.legend()\n",
        "plt.show()"
      ],
      "execution_count": 0,
      "outputs": [
        {
          "output_type": "display_data",
          "data": {
            "image/png": "[encoded data removed]",
            "text/plain": [
              "<Figure size 432x288 with 1 Axes>"
            ]
          },
          "metadata": {
            "tags": []
          }
        }
      ]
    },
    {
      "cell_type": "code",
      "metadata": {
        "id": "SJ7UBty3A0-T",
        "colab_type": "code",
        "outputId": "6e7e52a1-524c-41d1-dce0-31237c36cb45",
        "colab": {
          "base_uri": "https://localhost:8080/",
          "height": 295
        }
      },
      "source": [
        "acc_values = history_dict['acc']\n",
        "test_acc_values = history_dict['val_acc']\n",
        "\n",
        "plt.plot(epochs_range, acc_values, 'bo', label='Training accuracy')\n",
        "plt.plot(epochs_range, test_acc_values, 'ro', label='Test accuracy')\n",
        "plt.title('Training and test accuracy')\n",
        "plt.xlabel('Epochs')\n",
        "plt.ylabel('Accuracy')\n",
        "plt.legend()\n",
        "plt.show()"
      ],
      "execution_count": 0,
      "outputs": [
        {
          "output_type": "display_data",
          "data": {
            "image/png": "[encoded data removed]",
            "text/plain": [
              "<Figure size 432x288 with 1 Axes>"
            ]
          },
          "metadata": {
            "tags": []
          }
        }
      ]
    },
    {
      "cell_type": "markdown",
      "metadata": {
        "id": "4vtPQ-LtA87i",
        "colab_type": "text"
      },
      "source": [
        "# Underfitting Model\n",
        "### Model is too simple to explain data, and training is too short"
      ]
    },
    {
      "cell_type": "code",
      "metadata": {
        "id": "WAVTjPKlBIKa",
        "colab_type": "code",
        "outputId": "4bda7623-d49d-444f-80c8-7ab8e34c8148",
        "colab": {
          "base_uri": "https://localhost:8080/",
          "height": 289
        }
      },
      "source": [
        "model = models.Sequential()\n",
        "\n",
        "model.add(layers.Conv2D(1, (3, 3), activation='relu', input_shape=(32, 32, 3)))\n",
        "model.add(layers.MaxPooling2D((2, 2)))\n",
        "model.add(layers.Flatten())\n",
        "model.add(layers.Dense(10, activation='softmax'))\n",
        "\n",
        "model.compile(loss='categorical_crossentropy', optimizer='adam', \n",
        "              metrics=['accuracy'])\n",
        "\n",
        "model.summary()"
      ],
      "execution_count": 0,
      "outputs": [
        {
          "output_type": "stream",
          "text": [
            "Model: \"sequential_23\"\n",
            "_________________________________________________________________\n",
            "Layer (type)                 Output Shape              Param #   \n",
            "=================================================================\n",
            "conv2d_68 (Conv2D)           (None, 30, 30, 1)         28        \n",
            "_________________________________________________________________\n",
            "max_pooling2d_50 (MaxPooling (None, 15, 15, 1)         0         \n",
            "_________________________________________________________________\n",
            "flatten_18 (Flatten)         (None, 225)               0         \n",
            "_________________________________________________________________\n",
            "dense_36 (Dense)             (None, 10)                2260      \n",
            "=================================================================\n",
            "Total params: 2,288\n",
            "Trainable params: 2,288\n",
            "Non-trainable params: 0\n",
            "_________________________________________________________________\n"
          ],
          "name": "stdout"
        }
      ]
    },
    {
      "cell_type": "code",
      "metadata": {
        "id": "M1tkp-bFBP4I",
        "colab_type": "code",
        "outputId": "b289edbb-cc84-4dbd-d329-fb69dccc2334",
        "colab": {
          "base_uri": "https://localhost:8080/",
          "height": 204
        }
      },
      "source": [
        "epochs = 5\n",
        "\n",
        "history = model.fit(train_images, train_labels, epochs=epochs, \n",
        "                    validation_data=(test_images, test_labels))"
      ],
      "execution_count": 0,
      "outputs": [
        {
          "output_type": "stream",
          "text": [
            "Train on 50000 samples, validate on 10000 samples\n",
            "Epoch 1/5\n",
            "50000/50000 [==============================] - 9s 181us/step - loss: 2.0891 - acc: 0.2474 - val_loss: 1.9990 - val_acc: 0.2980\n",
            "Epoch 2/5\n",
            "50000/50000 [==============================] - 7s 147us/step - loss: 1.9583 - acc: 0.3084 - val_loss: 1.9347 - val_acc: 0.3191\n",
            "Epoch 3/5\n",
            "50000/50000 [==============================] - 7s 148us/step - loss: 1.9179 - acc: 0.3225 - val_loss: 1.9049 - val_acc: 0.3319\n",
            "Epoch 4/5\n",
            "50000/50000 [==============================] - 7s 150us/step - loss: 1.8959 - acc: 0.3303 - val_loss: 1.8967 - val_acc: 0.3320\n",
            "Epoch 5/5\n",
            "50000/50000 [==============================] - 7s 148us/step - loss: 1.8818 - acc: 0.3333 - val_loss: 1.8862 - val_acc: 0.3361\n"
          ],
          "name": "stdout"
        }
      ]
    },
    {
      "cell_type": "markdown",
      "metadata": {
        "id": "qxQ61YYhDReN",
        "colab_type": "text"
      },
      "source": [
        "##Underfitting Model Evaluation"
      ]
    },
    {
      "cell_type": "code",
      "metadata": {
        "id": "t7Po8TYqBvkf",
        "colab_type": "code",
        "outputId": "9baa1036-cc90-4dec-db89-d03e318b42ee",
        "colab": {
          "base_uri": "https://localhost:8080/",
          "height": 295
        }
      },
      "source": [
        "history_dict = history.history\n",
        "loss_values = history_dict['loss']\n",
        "test_loss_values = history_dict['val_loss']\n",
        "epochs_range = range(1, epochs+1)\n",
        "\n",
        "import matplotlib.pyplot as plt\n",
        "\n",
        "plt.plot(epochs_range, loss_values, 'bo', label='Training loss')\n",
        "plt.plot(epochs_range, test_loss_values, 'ro', label='Test loss')\n",
        "plt.title('Training and test loss')\n",
        "plt.xlabel('Epochs')\n",
        "plt.ylabel('Loss')\n",
        "plt.legend()\n",
        "plt.show()"
      ],
      "execution_count": 0,
      "outputs": [
        {
          "output_type": "display_data",
          "data": {
            "image/png": "[encoded data removed]",
            "text/plain": [
              "<Figure size 432x288 with 1 Axes>"
            ]
          },
          "metadata": {
            "tags": []
          }
        }
      ]
    },
    {
      "cell_type": "code",
      "metadata": {
        "id": "aXLDw6FsByS5",
        "colab_type": "code",
        "outputId": "5e307cf0-068f-495e-e6d5-3a5db89112da",
        "colab": {
          "base_uri": "https://localhost:8080/",
          "height": 295
        }
      },
      "source": [
        "acc_values = history_dict['acc']\n",
        "test_acc_values = history_dict['val_acc']\n",
        "\n",
        "plt.plot(epochs_range, acc_values, 'bo', label='Training accuracy')\n",
        "plt.plot(epochs_range, test_acc_values, 'ro', label='Test accuracy')\n",
        "plt.title('Training and test accuracy')\n",
        "plt.xlabel('Epochs')\n",
        "plt.ylabel('Accuracy')\n",
        "plt.legend()\n",
        "plt.show()"
      ],
      "execution_count": 0,
      "outputs": [
        {
          "output_type": "display_data",
          "data": {
            "image/png": "[encoded data removed]",
            "text/plain": [
              "<Figure size 432x288 with 1 Axes>"
            ]
          },
          "metadata": {
            "tags": []
          }
        }
      ]
    },
    {
      "cell_type": "markdown",
      "metadata": {
        "id": "Ug5iTFjrB4I0",
        "colab_type": "text"
      },
      "source": [
        "# Overfitting Model\n",
        "## Model is complicated and no dropout is used. Adapts too easily to the training data."
      ]
    },
    {
      "cell_type": "code",
      "metadata": {
        "id": "_5XHdDL3B3sB",
        "colab_type": "code",
        "outputId": "47a11ca4-dce5-44df-c529-c97ae05980d7",
        "colab": {
          "base_uri": "https://localhost:8080/",
          "height": 493
        }
      },
      "source": [
        "model = models.Sequential()\n",
        "\n",
        "model.add(layers.Conv2D(32, (3, 3), activation='relu', input_shape=(32, 32, 3)))\n",
        "model.add(layers.MaxPooling2D((2, 2)))\n",
        "model.add(layers.Conv2D(128, (3, 3), activation='relu'))\n",
        "model.add(layers.MaxPooling2D((2, 2)))\n",
        "model.add(layers.Conv2D(256, (3, 3), activation='relu'))\n",
        "model.add(layers.MaxPooling2D((2, 2)))\n",
        "model.add(layers.Flatten())\n",
        "model.add(layers.Dense(64, activation='relu'))\n",
        "model.add(layers.Dense(64, activation='relu'))\n",
        "model.add(layers.Dense(10, activation='softmax'))\n",
        "\n",
        "model.compile(loss='categorical_crossentropy', optimizer='adam', \n",
        "              metrics=['accuracy'])\n",
        "\n",
        "model.summary()"
      ],
      "execution_count": 0,
      "outputs": [
        {
          "output_type": "stream",
          "text": [
            "Model: \"sequential_24\"\n",
            "_________________________________________________________________\n",
            "Layer (type)                 Output Shape              Param #   \n",
            "=================================================================\n",
            "conv2d_69 (Conv2D)           (None, 30, 30, 32)        896       \n",
            "_________________________________________________________________\n",
            "max_pooling2d_51 (MaxPooling (None, 15, 15, 32)        0         \n",
            "_________________________________________________________________\n",
            "conv2d_70 (Conv2D)           (None, 13, 13, 128)       36992     \n",
            "_________________________________________________________________\n",
            "max_pooling2d_52 (MaxPooling (None, 6, 6, 128)         0         \n",
            "_________________________________________________________________\n",
            "conv2d_71 (Conv2D)           (None, 4, 4, 256)         295168    \n",
            "_________________________________________________________________\n",
            "max_pooling2d_53 (MaxPooling (None, 2, 2, 256)         0         \n",
            "_________________________________________________________________\n",
            "flatten_19 (Flatten)         (None, 1024)              0         \n",
            "_________________________________________________________________\n",
            "dense_37 (Dense)             (None, 64)                65600     \n",
            "_________________________________________________________________\n",
            "dense_38 (Dense)             (None, 64)                4160      \n",
            "_________________________________________________________________\n",
            "dense_39 (Dense)             (None, 10)                650       \n",
            "=================================================================\n",
            "Total params: 403,466\n",
            "Trainable params: 403,466\n",
            "Non-trainable params: 0\n",
            "_________________________________________________________________\n"
          ],
          "name": "stdout"
        }
      ]
    },
    {
      "cell_type": "code",
      "metadata": {
        "id": "N7Vt-LfcCjyj",
        "colab_type": "code",
        "outputId": "da12f4d9-fd2e-401b-cabf-13eec7f4dd63",
        "colab": {
          "base_uri": "https://localhost:8080/",
          "height": 714
        }
      },
      "source": [
        "epochs = 20\n",
        "\n",
        "history = model.fit(train_images, train_labels, epochs=epochs, \n",
        "                    validation_data=(test_images, test_labels))"
      ],
      "execution_count": 0,
      "outputs": [
        {
          "output_type": "stream",
          "text": [
            "Train on 50000 samples, validate on 10000 samples\n",
            "Epoch 1/20\n",
            "50000/50000 [==============================] - 12s 246us/step - loss: 1.5050 - acc: 0.4462 - val_loss: 1.2627 - val_acc: 0.5521\n",
            "Epoch 2/20\n",
            "50000/50000 [==============================] - 10s 208us/step - loss: 1.0936 - acc: 0.6122 - val_loss: 1.0071 - val_acc: 0.6428\n",
            "Epoch 3/20\n",
            "50000/50000 [==============================] - 10s 209us/step - loss: 0.9011 - acc: 0.6841 - val_loss: 0.8837 - val_acc: 0.6958\n",
            "Epoch 4/20\n",
            "50000/50000 [==============================] - 10s 206us/step - loss: 0.7779 - acc: 0.7286 - val_loss: 0.8811 - val_acc: 0.6942\n",
            "Epoch 5/20\n",
            "50000/50000 [==============================] - 11s 212us/step - loss: 0.6823 - acc: 0.7600 - val_loss: 0.8526 - val_acc: 0.7113\n",
            "Epoch 6/20\n",
            "50000/50000 [==============================] - 11s 217us/step - loss: 0.6085 - acc: 0.7865 - val_loss: 0.8201 - val_acc: 0.7284\n",
            "Epoch 7/20\n",
            "50000/50000 [==============================] - 11s 211us/step - loss: 0.5314 - acc: 0.8142 - val_loss: 0.8574 - val_acc: 0.7277\n",
            "Epoch 8/20\n",
            "50000/50000 [==============================] - 10s 209us/step - loss: 0.4685 - acc: 0.8352 - val_loss: 0.8967 - val_acc: 0.7238\n",
            "Epoch 9/20\n",
            "50000/50000 [==============================] - 10s 208us/step - loss: 0.4213 - acc: 0.8529 - val_loss: 0.9062 - val_acc: 0.7267\n",
            "Epoch 10/20\n",
            "50000/50000 [==============================] - 10s 208us/step - loss: 0.3729 - acc: 0.8688 - val_loss: 0.9469 - val_acc: 0.7254\n",
            "Epoch 11/20\n",
            "50000/50000 [==============================] - 10s 206us/step - loss: 0.3312 - acc: 0.8824 - val_loss: 1.0098 - val_acc: 0.7201\n",
            "Epoch 12/20\n",
            "50000/50000 [==============================] - 10s 207us/step - loss: 0.2942 - acc: 0.8970 - val_loss: 1.0707 - val_acc: 0.7290\n",
            "Epoch 13/20\n",
            "50000/50000 [==============================] - 10s 209us/step - loss: 0.2704 - acc: 0.9045 - val_loss: 1.1135 - val_acc: 0.7176\n",
            "Epoch 14/20\n",
            "50000/50000 [==============================] - 10s 210us/step - loss: 0.2397 - acc: 0.9151 - val_loss: 1.1685 - val_acc: 0.7196\n",
            "Epoch 15/20\n",
            "50000/50000 [==============================] - 10s 208us/step - loss: 0.2203 - acc: 0.9220 - val_loss: 1.2276 - val_acc: 0.7189\n",
            "Epoch 16/20\n",
            "50000/50000 [==============================] - 10s 209us/step - loss: 0.2017 - acc: 0.9294 - val_loss: 1.2190 - val_acc: 0.7122\n",
            "Epoch 17/20\n",
            "50000/50000 [==============================] - 10s 209us/step - loss: 0.1820 - acc: 0.9369 - val_loss: 1.2874 - val_acc: 0.7220\n",
            "Epoch 18/20\n",
            "50000/50000 [==============================] - 10s 209us/step - loss: 0.1772 - acc: 0.9378 - val_loss: 1.3364 - val_acc: 0.7168\n",
            "Epoch 19/20\n",
            "50000/50000 [==============================] - 10s 208us/step - loss: 0.1564 - acc: 0.9442 - val_loss: 1.4090 - val_acc: 0.7190\n",
            "Epoch 20/20\n",
            "50000/50000 [==============================] - 10s 209us/step - loss: 0.1461 - acc: 0.9482 - val_loss: 1.5786 - val_acc: 0.6925\n"
          ],
          "name": "stdout"
        }
      ]
    },
    {
      "cell_type": "markdown",
      "metadata": {
        "id": "MJheuxt4DNH5",
        "colab_type": "text"
      },
      "source": [
        "##Overfitting Model Evaluation"
      ]
    },
    {
      "cell_type": "code",
      "metadata": {
        "id": "trvXAJT0DHAb",
        "colab_type": "code",
        "outputId": "4e8cc239-46c6-424a-c00b-05687915f174",
        "colab": {
          "base_uri": "https://localhost:8080/",
          "height": 295
        }
      },
      "source": [
        "history_dict = history.history\n",
        "loss_values = history_dict['loss']\n",
        "test_loss_values = history_dict['val_loss']\n",
        "epochs_range = range(1, epochs+1)\n",
        "\n",
        "plt.plot(epochs_range, loss_values, 'bo', label='Training loss')\n",
        "plt.plot(epochs_range, test_loss_values, 'ro', label='Test loss')\n",
        "plt.title('Training and test loss')\n",
        "plt.xlabel('Epochs')\n",
        "plt.ylabel('Loss')\n",
        "plt.legend()\n",
        "plt.show()"
      ],
      "execution_count": 0,
      "outputs": [
        {
          "output_type": "display_data",
          "data": {
            "image/png": "[encoded data removed]",
            "text/plain": [
              "<Figure size 432x288 with 1 Axes>"
            ]
          },
          "metadata": {
            "tags": []
          }
        }
      ]
    },
    {
      "cell_type": "code",
      "metadata": {
        "id": "htGvD8F0DJvV",
        "colab_type": "code",
        "outputId": "eec3e5f8-6ec2-4d24-e1e7-2186b2d83534",
        "colab": {
          "base_uri": "https://localhost:8080/",
          "height": 295
        }
      },
      "source": [
        "acc_values = history_dict['acc']\n",
        "test_acc_values = history_dict['val_acc']\n",
        "\n",
        "plt.plot(epochs_range, acc_values, 'bo', label='Training accuracy')\n",
        "plt.plot(epochs_range, test_acc_values, 'ro', label='Test accuracy')\n",
        "plt.title('Training and test accuracy')\n",
        "plt.xlabel('Epochs')\n",
        "plt.ylabel('Accuracy')\n",
        "plt.legend()\n",
        "plt.show()"
      ],
      "execution_count": 0,
      "outputs": [
        {
          "output_type": "display_data",
          "data": {
            "image/png": "[encoded data removed]",
            "text/plain": [
              "<Figure size 432x288 with 1 Axes>"
            ]
          },
          "metadata": {
            "tags": []
          }
        }
      ]
    }
  ]
}