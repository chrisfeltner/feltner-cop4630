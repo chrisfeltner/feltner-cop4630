{
  "nbformat": 4,
  "nbformat_minor": 0,
  "metadata": {
    "colab": {
      "name": "ChristopherFeltnerHomework2Problem1.ipynb",
      "provenance": [],
      "include_colab_link": true
    },
    "kernelspec": {
      "name": "python3",
      "display_name": "Python 3"
    }
  },
  "cells": [
    {
      "cell_type": "markdown",
      "metadata": {
        "id": "view-in-github",
        "colab_type": "text"
      },
      "source": [
        "<a href=\"https://colab.research.google.com/github/chrisfeltner/feltner-cop4630/blob/master/HW2/ChristopherFeltnerHomework2Problem1.ipynb\" target=\"_parent\"><img src=\"https://colab.research.google.com/assets/colab-badge.svg\" alt=\"Open In Colab\"/></a>"
      ]
    },
    {
      "cell_type": "markdown",
      "metadata": {
        "id": "R1V54eCLXrFn",
        "colab_type": "text"
      },
      "source": [
        "#Homework Two\n",
        "##Problem One\n",
        "##Christopher Feltner"
      ]
    },
    {
      "cell_type": "markdown",
      "metadata": {
        "id": "JFLZ3ZrSpd6i",
        "colab_type": "text"
      },
      "source": [
        "###Simple model with a single dense layer and no handcrafted features"
      ]
    },
    {
      "cell_type": "code",
      "metadata": {
        "id": "a8YG2rl9UswF",
        "colab_type": "code",
        "outputId": "fc538280-f57e-41d8-d6d1-4a15d98bffcc",
        "colab": {
          "base_uri": "https://localhost:8080/",
          "height": 814
        }
      },
      "source": [
        "from keras import models\n",
        "from keras import layers\n",
        "from keras.datasets import mnist\n",
        "from keras.utils import to_categorical\n",
        "\n",
        "(train_data, train_labels), (test_data, test_labels) = mnist.load_data()\n",
        "train_data_reshaped = train_data.reshape(60000, 28*28)\n",
        "train_data_reshaped = train_data_reshaped.astype('float32') / 255\n",
        "\n",
        "train_labels = to_categorical(train_labels)\n",
        "\n",
        "test_data_reshaped = test_data.reshape(10000, 28*28)\n",
        "test_data_reshaped = test_data_reshaped.astype('float32') / 255\n",
        "\n",
        "test_labels = to_categorical(test_labels)\n",
        "\n",
        "model = models.Sequential(name='Simple Softmax Model')\n",
        "model.add(layers.Dense(10, activation='softmax', input_shape=(784,)))\n",
        "\n",
        "model.compile(optimizer='rmsprop', loss='categorical_crossentropy', \n",
        "              metrics=['accuracy'])\n",
        "\n",
        "history = model.fit(train_data_reshaped, train_labels, epochs=5, \n",
        "                    batch_size=128, \n",
        "                    validation_data=(test_data_reshaped, test_labels))\n",
        "test_loss, test_acc = model.evaluate(test_data_reshaped, test_labels)\n",
        "print('test_acc: ', test_acc)"
      ],
      "execution_count": 0,
      "outputs": [
        {
          "output_type": "stream",
          "text": [
            "Using TensorFlow backend.\n"
          ],
          "name": "stderr"
        },
        {
          "output_type": "display_data",
          "data": {
            "text/html": [
              "<p style=\"color: red;\">\n",
              "The default version of TensorFlow in Colab will soon switch to TensorFlow 2.x.<br>\n",
              "We recommend you <a href=\"https://www.tensorflow.org/guide/migrate\" target=\"_blank\">upgrade</a> now \n",
              "or ensure your notebook will continue to use TensorFlow 1.x via the <code>%tensorflow_version 1.x</code> magic:\n",
              "<a href=\"https://colab.research.google.com/notebooks/tensorflow_version.ipynb\" target=\"_blank\">more info</a>.</p>\n"
            ],
            "text/plain": [
              "<IPython.core.display.HTML object>"
            ]
          },
          "metadata": {
            "tags": []
          }
        },
        {
          "output_type": "stream",
          "text": [
            "WARNING:tensorflow:From /usr/local/lib/python3.6/dist-packages/keras/backend/tensorflow_backend.py:66: The name tf.get_default_graph is deprecated. Please use tf.compat.v1.get_default_graph instead.\n",
            "\n",
            "WARNING:tensorflow:From /usr/local/lib/python3.6/dist-packages/keras/backend/tensorflow_backend.py:541: The name tf.placeholder is deprecated. Please use tf.compat.v1.placeholder instead.\n",
            "\n",
            "WARNING:tensorflow:From /usr/local/lib/python3.6/dist-packages/keras/backend/tensorflow_backend.py:4432: The name tf.random_uniform is deprecated. Please use tf.random.uniform instead.\n",
            "\n",
            "WARNING:tensorflow:From /usr/local/lib/python3.6/dist-packages/keras/optimizers.py:793: The name tf.train.Optimizer is deprecated. Please use tf.compat.v1.train.Optimizer instead.\n",
            "\n",
            "WARNING:tensorflow:From /usr/local/lib/python3.6/dist-packages/keras/backend/tensorflow_backend.py:3576: The name tf.log is deprecated. Please use tf.math.log instead.\n",
            "\n",
            "WARNING:tensorflow:From /usr/local/lib/python3.6/dist-packages/tensorflow_core/python/ops/math_grad.py:1424: where (from tensorflow.python.ops.array_ops) is deprecated and will be removed in a future version.\n",
            "Instructions for updating:\n",
            "Use tf.where in 2.0, which has the same broadcast rule as np.where\n",
            "WARNING:tensorflow:From /usr/local/lib/python3.6/dist-packages/keras/backend/tensorflow_backend.py:1033: The name tf.assign_add is deprecated. Please use tf.compat.v1.assign_add instead.\n",
            "\n",
            "WARNING:tensorflow:From /usr/local/lib/python3.6/dist-packages/keras/backend/tensorflow_backend.py:1020: The name tf.assign is deprecated. Please use tf.compat.v1.assign instead.\n",
            "\n",
            "WARNING:tensorflow:From /usr/local/lib/python3.6/dist-packages/keras/backend/tensorflow_backend.py:3005: The name tf.Session is deprecated. Please use tf.compat.v1.Session instead.\n",
            "\n",
            "Train on 60000 samples, validate on 10000 samples\n",
            "Epoch 1/5\n",
            "WARNING:tensorflow:From /usr/local/lib/python3.6/dist-packages/keras/backend/tensorflow_backend.py:190: The name tf.get_default_session is deprecated. Please use tf.compat.v1.get_default_session instead.\n",
            "\n",
            "WARNING:tensorflow:From /usr/local/lib/python3.6/dist-packages/keras/backend/tensorflow_backend.py:197: The name tf.ConfigProto is deprecated. Please use tf.compat.v1.ConfigProto instead.\n",
            "\n",
            "WARNING:tensorflow:From /usr/local/lib/python3.6/dist-packages/keras/backend/tensorflow_backend.py:207: The name tf.global_variables is deprecated. Please use tf.compat.v1.global_variables instead.\n",
            "\n",
            "WARNING:tensorflow:From /usr/local/lib/python3.6/dist-packages/keras/backend/tensorflow_backend.py:216: The name tf.is_variable_initialized is deprecated. Please use tf.compat.v1.is_variable_initialized instead.\n",
            "\n",
            "WARNING:tensorflow:From /usr/local/lib/python3.6/dist-packages/keras/backend/tensorflow_backend.py:223: The name tf.variables_initializer is deprecated. Please use tf.compat.v1.variables_initializer instead.\n",
            "\n",
            "60000/60000 [==============================] - 1s 22us/step - loss: 0.6099 - acc: 0.8492 - val_loss: 0.3427 - val_acc: 0.9070\n",
            "Epoch 2/5\n",
            "60000/60000 [==============================] - 1s 20us/step - loss: 0.3306 - acc: 0.9080 - val_loss: 0.3013 - val_acc: 0.9149\n",
            "Epoch 3/5\n",
            "60000/60000 [==============================] - 1s 19us/step - loss: 0.3015 - acc: 0.9154 - val_loss: 0.2847 - val_acc: 0.9204\n",
            "Epoch 4/5\n",
            "60000/60000 [==============================] - 1s 19us/step - loss: 0.2882 - acc: 0.9196 - val_loss: 0.2798 - val_acc: 0.9215\n",
            "Epoch 5/5\n",
            "60000/60000 [==============================] - 1s 19us/step - loss: 0.2802 - acc: 0.9216 - val_loss: 0.2741 - val_acc: 0.9236\n",
            "10000/10000 [==============================] - 0s 18us/step\n",
            "test_acc:  0.9236\n"
          ],
          "name": "stdout"
        }
      ]
    },
    {
      "cell_type": "markdown",
      "metadata": {
        "id": "o27xqyMqpnmS",
        "colab_type": "text"
      },
      "source": [
        "###Results"
      ]
    },
    {
      "cell_type": "code",
      "metadata": {
        "id": "gohQi1RrppyA",
        "colab_type": "code",
        "outputId": "f166fac5-845a-4b86-b4aa-a9ae9b24ff2f",
        "colab": {
          "base_uri": "https://localhost:8080/",
          "height": 295
        }
      },
      "source": [
        "history_dict = history.history\n",
        "loss_values = history_dict['loss']\n",
        "test_loss_values = history_dict['val_loss']\n",
        "epochs_range = range(1, 6)\n",
        "\n",
        "import matplotlib.pyplot as plt\n",
        "\n",
        "plt.plot(epochs_range, loss_values, 'bo', label='Training loss')\n",
        "plt.plot(epochs_range, test_loss_values, 'ro', label='Test loss')\n",
        "plt.title('Training and test loss')\n",
        "plt.xlabel('Epochs')\n",
        "plt.ylabel('Loss')\n",
        "plt.legend()\n",
        "plt.show()"
      ],
      "execution_count": 0,
      "outputs": [
        {
          "output_type": "display_data",
          "data": {
            "image/png": "[encoded data removed]",
            "text/plain": [
              "<Figure size 432x288 with 1 Axes>"
            ]
          },
          "metadata": {
            "tags": []
          }
        }
      ]
    },
    {
      "cell_type": "markdown",
      "metadata": {
        "id": "hdcUsv_grgci",
        "colab_type": "text"
      },
      "source": [
        "###Calculating Handcrafted Features"
      ]
    },
    {
      "cell_type": "code",
      "metadata": {
        "id": "tlN1_ZQOrjk5",
        "colab_type": "code",
        "outputId": "d3d9e33a-ce26-41a9-96d7-c8e0fb7b8eac",
        "colab": {
          "base_uri": "https://localhost:8080/",
          "height": 1000
        }
      },
      "source": [
        "import numpy as np\n",
        "\n",
        "handcrafted_features_train = np.zeros((60000, 5))\n",
        "handcrafted_features_test = np.zeros((10000, 5))\n",
        "\n",
        "def getImageWidth(image):\n",
        "  min_left = 27\n",
        "  max_right = 0\n",
        "  for i in range(28):\n",
        "    for j in range(28):\n",
        "      if(image[i][j] != 0 and j < min_left):\n",
        "        min_left = j\n",
        "        break\n",
        "      if(image[i][27 - j] != 0 and 27 - j > max_right):\n",
        "        max_right = 27 - j\n",
        "        break\n",
        "  return (max_right - min_left + 1) / 28\n",
        "\n",
        "def getImageHeight(image):\n",
        "  min_top = 27\n",
        "  max_bottom = 0\n",
        "  for i in range(28):\n",
        "    for j in range(28):\n",
        "      if(image[j][i] != 0 and j < min_top):\n",
        "        min_top = j\n",
        "      if(image[27 - j][i] != 0 and 27 - j > max_bottom):\n",
        "        max_bottom = 27 - j\n",
        "  return (max_bottom - min_top + 1) / 28\n",
        "\n",
        "def getIndependentWhiteRegions(image):\n",
        "  visited = np.zeros((28, 28))\n",
        "  components = 0\n",
        "  def traverse(image, visited, i, j):\n",
        "    if(image[i][j] == 0):\n",
        "      visited[i][j] = 1\n",
        "      if(i + 1 < 28 and visited[i + 1][j] == 0 and image[i + 1][j] == 0):\n",
        "        traverse(image, visited, i + 1, j)\n",
        "      if(j + 1 < 28 and visited[i][j + 1] == 0 and image[i][j + 1] == 0):\n",
        "        traverse(image, visited, i, j + 1)\n",
        "      if(j - 1 >= 0 and visited[i][j - 1] == 0 and image[i][j - 1] == 0):\n",
        "        traverse(image, visited, i, j - 1)\n",
        "      if(i - 1 >= 0 and visited[i - 1][j] == 0 and image[i - 1][j] == 0):\n",
        "        traverse(image, visited, i - 1, j)\n",
        "  for i in range(28):\n",
        "    for j in range(28):\n",
        "      if(visited[i][j] == 0 and image[i][j] == 0):\n",
        "        components = components + 1\n",
        "        traverse(image, visited, i, j)\n",
        "  return components\n",
        "\n",
        "for i in range(len(test_data)):\n",
        "  if(i % 1000 == 0):\n",
        "    print(\"Getting handcrafted features for test group: \", i)\n",
        "  white_regions = getIndependentWhiteRegions(test_data[i])\n",
        "  handcrafted_features_test[i] = [getImageWidth(test_data[i]), \n",
        "                             getImageHeight(test_data[i]), \n",
        "                             white_regions == 1, \n",
        "                             white_regions == 2, white_regions == 3]\n",
        "\n",
        "for i in range(len(train_data)):\n",
        "  if(i % 1000 == 0):\n",
        "    print(\"Getting handcrafted features for training group: \", i)\n",
        "  white_regions = getIndependentWhiteRegions(train_data[i])\n",
        "  handcrafted_features_train[i] = [getImageWidth(train_data[i]), \n",
        "                             getImageHeight(train_data[i]), \n",
        "                             white_regions == 1, white_regions == 2, \n",
        "                             white_regions == 3]"
      ],
      "execution_count": 0,
      "outputs": [
        {
          "output_type": "stream",
          "text": [
            "Getting handcrafted features for test group:  0\n",
            "Getting handcrafted features for test group:  1000\n",
            "Getting handcrafted features for test group:  2000\n",
            "Getting handcrafted features for test group:  3000\n",
            "Getting handcrafted features for test group:  4000\n",
            "Getting handcrafted features for test group:  5000\n",
            "Getting handcrafted features for test group:  6000\n",
            "Getting handcrafted features for test group:  7000\n",
            "Getting handcrafted features for test group:  8000\n",
            "Getting handcrafted features for test group:  9000\n",
            "Getting handcrafted features for training group:  0\n",
            "Getting handcrafted features for training group:  1000\n",
            "Getting handcrafted features for training group:  2000\n",
            "Getting handcrafted features for training group:  3000\n",
            "Getting handcrafted features for training group:  4000\n",
            "Getting handcrafted features for training group:  5000\n",
            "Getting handcrafted features for training group:  6000\n",
            "Getting handcrafted features for training group:  7000\n",
            "Getting handcrafted features for training group:  8000\n",
            "Getting handcrafted features for training group:  9000\n",
            "Getting handcrafted features for training group:  10000\n",
            "Getting handcrafted features for training group:  11000\n",
            "Getting handcrafted features for training group:  12000\n",
            "Getting handcrafted features for training group:  13000\n",
            "Getting handcrafted features for training group:  14000\n",
            "Getting handcrafted features for training group:  15000\n",
            "Getting handcrafted features for training group:  16000\n",
            "Getting handcrafted features for training group:  17000\n",
            "Getting handcrafted features for training group:  18000\n",
            "Getting handcrafted features for training group:  19000\n",
            "Getting handcrafted features for training group:  20000\n",
            "Getting handcrafted features for training group:  21000\n",
            "Getting handcrafted features for training group:  22000\n",
            "Getting handcrafted features for training group:  23000\n",
            "Getting handcrafted features for training group:  24000\n",
            "Getting handcrafted features for training group:  25000\n",
            "Getting handcrafted features for training group:  26000\n",
            "Getting handcrafted features for training group:  27000\n",
            "Getting handcrafted features for training group:  28000\n",
            "Getting handcrafted features for training group:  29000\n",
            "Getting handcrafted features for training group:  30000\n",
            "Getting handcrafted features for training group:  31000\n",
            "Getting handcrafted features for training group:  32000\n",
            "Getting handcrafted features for training group:  33000\n",
            "Getting handcrafted features for training group:  34000\n",
            "Getting handcrafted features for training group:  35000\n",
            "Getting handcrafted features for training group:  36000\n",
            "Getting handcrafted features for training group:  37000\n",
            "Getting handcrafted features for training group:  38000\n",
            "Getting handcrafted features for training group:  39000\n",
            "Getting handcrafted features for training group:  40000\n",
            "Getting handcrafted features for training group:  41000\n",
            "Getting handcrafted features for training group:  42000\n",
            "Getting handcrafted features for training group:  43000\n",
            "Getting handcrafted features for training group:  44000\n",
            "Getting handcrafted features for training group:  45000\n",
            "Getting handcrafted features for training group:  46000\n",
            "Getting handcrafted features for training group:  47000\n",
            "Getting handcrafted features for training group:  48000\n",
            "Getting handcrafted features for training group:  49000\n",
            "Getting handcrafted features for training group:  50000\n",
            "Getting handcrafted features for training group:  51000\n",
            "Getting handcrafted features for training group:  52000\n",
            "Getting handcrafted features for training group:  53000\n",
            "Getting handcrafted features for training group:  54000\n",
            "Getting handcrafted features for training group:  55000\n",
            "Getting handcrafted features for training group:  56000\n",
            "Getting handcrafted features for training group:  57000\n",
            "Getting handcrafted features for training group:  58000\n",
            "Getting handcrafted features for training group:  59000\n"
          ],
          "name": "stdout"
        }
      ]
    },
    {
      "cell_type": "markdown",
      "metadata": {
        "id": "33WxFjGNDe6Q",
        "colab_type": "text"
      },
      "source": [
        "##Model with handcrafted features"
      ]
    },
    {
      "cell_type": "code",
      "metadata": {
        "id": "w0_EW0TtDdSf",
        "colab_type": "code",
        "outputId": "1d5958c5-467f-4e8c-b059-f1046dba63e2",
        "colab": {
          "base_uri": "https://localhost:8080/",
          "height": 238
        }
      },
      "source": [
        "train_data_handcrafted = np.concatenate((train_data_reshaped, handcrafted_features), axis=1)\n",
        "test_data_handcrafted = np.concatenate((test_data_reshaped, handcrafted_features_test), axis=1)\n",
        "\n",
        "handcrafted_model = models.Sequential(name=\"Model with Handcrafted Features\")\n",
        "\n",
        "handcrafted_model.add(layers.Dense(10, activation='softmax', input_shape=(789,)))\n",
        "\n",
        "handcrafted_model.compile(optimizer='rmsprop', loss='categorical_crossentropy', \n",
        "              metrics=['accuracy'])\n",
        "\n",
        "history = handcrafted_model.fit(train_data_handcrafted, train_labels, epochs=5, \n",
        "                    batch_size=128, \n",
        "                    validation_data=(test_data_handcrafted, test_labels))\n",
        "test_loss, test_acc = handcrafted_model.evaluate(test_data_handcrafted, test_labels)\n",
        "print('test_acc: ', test_acc)\n"
      ],
      "execution_count": 0,
      "outputs": [
        {
          "output_type": "stream",
          "text": [
            "Train on 60000 samples, validate on 10000 samples\n",
            "Epoch 1/5\n",
            "60000/60000 [==============================] - 2s 26us/step - loss: 0.5687 - acc: 0.8625 - val_loss: 0.3097 - val_acc: 0.9184\n",
            "Epoch 2/5\n",
            "60000/60000 [==============================] - 1s 23us/step - loss: 0.2881 - acc: 0.9198 - val_loss: 0.2603 - val_acc: 0.9272\n",
            "Epoch 3/5\n",
            "60000/60000 [==============================] - 1s 24us/step - loss: 0.2551 - acc: 0.9273 - val_loss: 0.2431 - val_acc: 0.9333\n",
            "Epoch 4/5\n",
            "60000/60000 [==============================] - 1s 23us/step - loss: 0.2403 - acc: 0.9317 - val_loss: 0.2355 - val_acc: 0.9335\n",
            "Epoch 5/5\n",
            "60000/60000 [==============================] - 1s 23us/step - loss: 0.2318 - acc: 0.9336 - val_loss: 0.2302 - val_acc: 0.9375\n",
            "10000/10000 [==============================] - 0s 25us/step\n",
            "test_acc:  0.9375\n"
          ],
          "name": "stdout"
        }
      ]
    },
    {
      "cell_type": "markdown",
      "metadata": {
        "id": "VCtf8C2EHyIu",
        "colab_type": "text"
      },
      "source": [
        "### Handcrafted features model results"
      ]
    },
    {
      "cell_type": "code",
      "metadata": {
        "id": "8QWE9p3GH2EC",
        "colab_type": "code",
        "outputId": "0059dea5-d6a0-4e66-fae9-b88828a5bc38",
        "colab": {
          "base_uri": "https://localhost:8080/",
          "height": 295
        }
      },
      "source": [
        "history_dict = history.history\n",
        "loss_values = history_dict['loss']\n",
        "test_loss_values = history_dict['val_loss']\n",
        "epochs_range = range(1, 6)\n",
        "\n",
        "plt.plot(epochs_range, loss_values, 'bo', label='Training loss')\n",
        "plt.plot(epochs_range, test_loss_values, 'ro', label='Test loss')\n",
        "plt.title('Training and test loss')\n",
        "plt.xlabel('Epochs')\n",
        "plt.ylabel('Loss')\n",
        "plt.legend()\n",
        "plt.show()"
      ],
      "execution_count": 0,
      "outputs": [
        {
          "output_type": "display_data",
          "data": {
            "image/png": "[encoded data removed]",
            "text/plain": [
              "<Figure size 432x288 with 1 Axes>"
            ]
          },
          "metadata": {
            "tags": []
          }
        }
      ]
    }
  ]
}