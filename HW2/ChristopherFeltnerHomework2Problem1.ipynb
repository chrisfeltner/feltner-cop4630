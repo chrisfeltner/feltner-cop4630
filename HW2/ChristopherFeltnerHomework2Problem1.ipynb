{
  "nbformat": 4,
  "nbformat_minor": 0,
  "metadata": {
    "colab": {
      "name": "ChristopherFeltnerHomework2Problem1.ipynb",
      "provenance": [],
      "include_colab_link": true
    },
    "kernelspec": {
      "name": "python3",
      "display_name": "Python 3"
    },
    "accelerator": "GPU"
  },
  "cells": [
    {
      "cell_type": "markdown",
      "metadata": {
        "id": "view-in-github",
        "colab_type": "text"
      },
      "source": [
        "<a href=\"https://colab.research.google.com/github/chrisfeltner/feltner-cop4630/blob/master/HW2/ChristopherFeltnerHomework2Problem1.ipynb\" target=\"_parent\"><img src=\"https://colab.research.google.com/assets/colab-badge.svg\" alt=\"Open In Colab\"/></a>"
      ]
    },
    {
      "cell_type": "markdown",
      "metadata": {
        "id": "R1V54eCLXrFn",
        "colab_type": "text"
      },
      "source": [
        "#Homework Two\n",
        "##Problem One\n",
        "##Christopher Feltner"
      ]
    },
    {
      "cell_type": "markdown",
      "metadata": {
        "id": "JFLZ3ZrSpd6i",
        "colab_type": "text"
      },
      "source": [
        "###Simple model with a single dense layer and no handcrafted features"
      ]
    },
    {
      "cell_type": "code",
      "metadata": {
        "id": "a8YG2rl9UswF",
        "colab_type": "code",
        "outputId": "08565508-746c-4c24-9b93-48fe9015a6dd",
        "colab": {
          "base_uri": "https://localhost:8080/",
          "height": 238
        }
      },
      "source": [
        "from keras import models\n",
        "from keras import layers\n",
        "from keras.datasets import mnist\n",
        "from keras.utils import to_categorical\n",
        "\n",
        "(train_data, train_labels), (test_data, test_labels) = mnist.load_data()\n",
        "train_data_reshaped = train_data.reshape(60000, 28*28)\n",
        "train_data_reshaped = train_data_reshaped.astype('float32') / 255\n",
        "\n",
        "train_labels = to_categorical(train_labels)\n",
        "\n",
        "test_data_reshaped = test_data.reshape(10000, 28*28)\n",
        "test_data_reshaped = test_data_reshaped.astype('float32') / 255\n",
        "\n",
        "test_labels = to_categorical(test_labels)\n",
        "\n",
        "model = models.Sequential(name='Simple Softmax Model')\n",
        "model.add(layers.Dense(10, activation='softmax', input_shape=(784,)))\n",
        "\n",
        "model.compile(optimizer='rmsprop', loss='categorical_crossentropy', \n",
        "              metrics=['accuracy'])\n",
        "\n",
        "history = model.fit(train_data_reshaped, train_labels, epochs=5, \n",
        "                    batch_size=128, \n",
        "                    validation_data=(test_data_reshaped, test_labels))\n",
        "test_loss, test_acc = model.evaluate(test_data_reshaped, test_labels)\n",
        "print('test_acc: ', test_acc)"
      ],
      "execution_count": 8,
      "outputs": [
        {
          "output_type": "stream",
          "text": [
            "Train on 60000 samples, validate on 10000 samples\n",
            "Epoch 1/5\n",
            "60000/60000 [==============================] - 2s 38us/step - loss: 0.6039 - acc: 0.8503 - val_loss: 0.3441 - val_acc: 0.9053\n",
            "Epoch 2/5\n",
            "60000/60000 [==============================] - 2s 34us/step - loss: 0.3313 - acc: 0.9081 - val_loss: 0.3013 - val_acc: 0.9163\n",
            "Epoch 3/5\n",
            "60000/60000 [==============================] - 2s 35us/step - loss: 0.3019 - acc: 0.9157 - val_loss: 0.2865 - val_acc: 0.9205\n",
            "Epoch 4/5\n",
            "60000/60000 [==============================] - 2s 35us/step - loss: 0.2888 - acc: 0.9194 - val_loss: 0.2796 - val_acc: 0.9232\n",
            "Epoch 5/5\n",
            "60000/60000 [==============================] - 2s 34us/step - loss: 0.2807 - acc: 0.9219 - val_loss: 0.2755 - val_acc: 0.9241\n",
            "10000/10000 [==============================] - 1s 52us/step\n",
            "test_acc:  0.9241\n"
          ],
          "name": "stdout"
        }
      ]
    },
    {
      "cell_type": "markdown",
      "metadata": {
        "id": "o27xqyMqpnmS",
        "colab_type": "text"
      },
      "source": [
        "###Results"
      ]
    },
    {
      "cell_type": "code",
      "metadata": {
        "id": "gohQi1RrppyA",
        "colab_type": "code",
        "outputId": "53247e5f-ffec-4c5c-e181-5b64bdd39d73",
        "colab": {
          "base_uri": "https://localhost:8080/",
          "height": 295
        }
      },
      "source": [
        "history_dict = history.history\n",
        "loss_values = history_dict['loss']\n",
        "test_loss_values = history_dict['val_loss']\n",
        "epochs_range = range(1, 6)\n",
        "\n",
        "import matplotlib.pyplot as plt\n",
        "\n",
        "plt.plot(epochs_range, loss_values, 'bo', label='Training loss')\n",
        "plt.plot(epochs_range, test_loss_values, 'ro', label='Test loss')\n",
        "plt.title('Training and test loss')\n",
        "plt.xlabel('Epochs')\n",
        "plt.ylabel('Loss')\n",
        "plt.legend()\n",
        "plt.show()"
      ],
      "execution_count": 9,
      "outputs": [
        {
          "output_type": "display_data",
          "data": {
            "image/png": "[encoded data removed]",
            "text/plain": [
              "<Figure size 432x288 with 1 Axes>"
            ]
          },
          "metadata": {
            "tags": []
          }
        }
      ]
    },
    {
      "cell_type": "code",
      "metadata": {
        "id": "0mwicoZYRcBf",
        "colab_type": "code",
        "colab": {
          "base_uri": "https://localhost:8080/",
          "height": 295
        },
        "outputId": "efdb8a03-3161-45e6-9de5-97b26e5757bb"
      },
      "source": [
        "acc_values = history_dict['acc']\n",
        "test_acc_values = history_dict['val_acc']\n",
        "epochs_range = range(1, 6)\n",
        "\n",
        "plt.plot(epochs_range, acc_values, 'bo', label='Training Accuracy')\n",
        "plt.plot(epochs_range, test_acc_values, 'ro', label='Test Accuracy')\n",
        "plt.title('Training and test accuracy')\n",
        "plt.xlabel('Epochs')\n",
        "plt.ylabel('Accuracy')\n",
        "plt.legend()\n",
        "plt.show()"
      ],
      "execution_count": 10,
      "outputs": [
        {
          "output_type": "display_data",
          "data": {
            "image/png": "[encoded data removed]",
            "text/plain": [
              "<Figure size 432x288 with 1 Axes>"
            ]
          },
          "metadata": {
            "tags": []
          }
        }
      ]
    },
    {
      "cell_type": "markdown",
      "metadata": {
        "id": "hdcUsv_grgci",
        "colab_type": "text"
      },
      "source": [
        "###Calculating Handcrafted Features"
      ]
    },
    {
      "cell_type": "code",
      "metadata": {
        "id": "tlN1_ZQOrjk5",
        "colab_type": "code",
        "outputId": "1036a997-15c1-45f1-dc96-f74f199c0b63",
        "colab": {
          "base_uri": "https://localhost:8080/",
          "height": 1000
        }
      },
      "source": [
        "import numpy as np\n",
        "\n",
        "handcrafted_features_train = np.zeros((60000, 5))\n",
        "handcrafted_features_test = np.zeros((10000, 5))\n",
        "\n",
        "def getImageWidth(image):\n",
        "  min_left = 27\n",
        "  max_right = 0\n",
        "  for i in range(28):\n",
        "    for j in range(28):\n",
        "      if(image[i][j] != 0 and j < min_left):\n",
        "        min_left = j\n",
        "        break\n",
        "      if(image[i][27 - j] != 0 and 27 - j > max_right):\n",
        "        max_right = 27 - j\n",
        "        break\n",
        "  return (max_right - min_left + 1) / 28\n",
        "\n",
        "def getImageHeight(image):\n",
        "  min_top = 27\n",
        "  max_bottom = 0\n",
        "  for i in range(28):\n",
        "    for j in range(28):\n",
        "      if(image[j][i] != 0 and j < min_top):\n",
        "        min_top = j\n",
        "      if(image[27 - j][i] != 0 and 27 - j > max_bottom):\n",
        "        max_bottom = 27 - j\n",
        "  return (max_bottom - min_top + 1) / 28\n",
        "\n",
        "def getIndependentWhiteRegions(image):\n",
        "  visited = np.zeros((28, 28))\n",
        "  components = 0\n",
        "  def traverse(image, visited, i, j):\n",
        "    if(image[i][j] == 0):\n",
        "      visited[i][j] = 1\n",
        "      if(i + 1 < 28 and visited[i + 1][j] == 0 and image[i + 1][j] == 0):\n",
        "        traverse(image, visited, i + 1, j)\n",
        "      if(j + 1 < 28 and visited[i][j + 1] == 0 and image[i][j + 1] == 0):\n",
        "        traverse(image, visited, i, j + 1)\n",
        "      if(j - 1 >= 0 and visited[i][j - 1] == 0 and image[i][j - 1] == 0):\n",
        "        traverse(image, visited, i, j - 1)\n",
        "      if(i - 1 >= 0 and visited[i - 1][j] == 0 and image[i - 1][j] == 0):\n",
        "        traverse(image, visited, i - 1, j)\n",
        "  for i in range(28):\n",
        "    for j in range(28):\n",
        "      if(visited[i][j] == 0 and image[i][j] == 0):\n",
        "        components = components + 1\n",
        "        traverse(image, visited, i, j)\n",
        "  return components\n",
        "\n",
        "for i in range(len(test_data)):\n",
        "  if(i % 1000 == 0):\n",
        "    print(\"Getting handcrafted features for test group: \", i)\n",
        "  white_regions = getIndependentWhiteRegions(test_data[i])\n",
        "  handcrafted_features_test[i] = [getImageWidth(test_data[i]), \n",
        "                             getImageHeight(test_data[i]), \n",
        "                             white_regions == 1, \n",
        "                             white_regions == 2, white_regions == 3]\n",
        "\n",
        "for i in range(len(train_data)):\n",
        "  if(i % 1000 == 0):\n",
        "    print(\"Getting handcrafted features for training group: \", i)\n",
        "  white_regions = getIndependentWhiteRegions(train_data[i])\n",
        "  handcrafted_features_train[i] = [getImageWidth(train_data[i]), \n",
        "                             getImageHeight(train_data[i]), \n",
        "                             white_regions == 1, white_regions == 2, \n",
        "                             white_regions == 3]"
      ],
      "execution_count": 11,
      "outputs": [
        {
          "output_type": "stream",
          "text": [
            "Getting handcrafted features for test group:  0\n",
            "Getting handcrafted features for test group:  1000\n",
            "Getting handcrafted features for test group:  2000\n",
            "Getting handcrafted features for test group:  3000\n",
            "Getting handcrafted features for test group:  4000\n",
            "Getting handcrafted features for test group:  5000\n",
            "Getting handcrafted features for test group:  6000\n",
            "Getting handcrafted features for test group:  7000\n",
            "Getting handcrafted features for test group:  8000\n",
            "Getting handcrafted features for test group:  9000\n",
            "Getting handcrafted features for training group:  0\n",
            "Getting handcrafted features for training group:  1000\n",
            "Getting handcrafted features for training group:  2000\n",
            "Getting handcrafted features for training group:  3000\n",
            "Getting handcrafted features for training group:  4000\n",
            "Getting handcrafted features for training group:  5000\n",
            "Getting handcrafted features for training group:  6000\n",
            "Getting handcrafted features for training group:  7000\n",
            "Getting handcrafted features for training group:  8000\n",
            "Getting handcrafted features for training group:  9000\n",
            "Getting handcrafted features for training group:  10000\n",
            "Getting handcrafted features for training group:  11000\n",
            "Getting handcrafted features for training group:  12000\n",
            "Getting handcrafted features for training group:  13000\n",
            "Getting handcrafted features for training group:  14000\n",
            "Getting handcrafted features for training group:  15000\n",
            "Getting handcrafted features for training group:  16000\n",
            "Getting handcrafted features for training group:  17000\n",
            "Getting handcrafted features for training group:  18000\n",
            "Getting handcrafted features for training group:  19000\n",
            "Getting handcrafted features for training group:  20000\n",
            "Getting handcrafted features for training group:  21000\n",
            "Getting handcrafted features for training group:  22000\n",
            "Getting handcrafted features for training group:  23000\n",
            "Getting handcrafted features for training group:  24000\n",
            "Getting handcrafted features for training group:  25000\n",
            "Getting handcrafted features for training group:  26000\n",
            "Getting handcrafted features for training group:  27000\n",
            "Getting handcrafted features for training group:  28000\n",
            "Getting handcrafted features for training group:  29000\n",
            "Getting handcrafted features for training group:  30000\n",
            "Getting handcrafted features for training group:  31000\n",
            "Getting handcrafted features for training group:  32000\n",
            "Getting handcrafted features for training group:  33000\n",
            "Getting handcrafted features for training group:  34000\n",
            "Getting handcrafted features for training group:  35000\n",
            "Getting handcrafted features for training group:  36000\n",
            "Getting handcrafted features for training group:  37000\n",
            "Getting handcrafted features for training group:  38000\n",
            "Getting handcrafted features for training group:  39000\n",
            "Getting handcrafted features for training group:  40000\n",
            "Getting handcrafted features for training group:  41000\n",
            "Getting handcrafted features for training group:  42000\n",
            "Getting handcrafted features for training group:  43000\n",
            "Getting handcrafted features for training group:  44000\n",
            "Getting handcrafted features for training group:  45000\n",
            "Getting handcrafted features for training group:  46000\n",
            "Getting handcrafted features for training group:  47000\n",
            "Getting handcrafted features for training group:  48000\n",
            "Getting handcrafted features for training group:  49000\n",
            "Getting handcrafted features for training group:  50000\n",
            "Getting handcrafted features for training group:  51000\n",
            "Getting handcrafted features for training group:  52000\n",
            "Getting handcrafted features for training group:  53000\n",
            "Getting handcrafted features for training group:  54000\n",
            "Getting handcrafted features for training group:  55000\n",
            "Getting handcrafted features for training group:  56000\n",
            "Getting handcrafted features for training group:  57000\n",
            "Getting handcrafted features for training group:  58000\n",
            "Getting handcrafted features for training group:  59000\n"
          ],
          "name": "stdout"
        }
      ]
    },
    {
      "cell_type": "markdown",
      "metadata": {
        "id": "33WxFjGNDe6Q",
        "colab_type": "text"
      },
      "source": [
        "##Model with handcrafted features"
      ]
    },
    {
      "cell_type": "code",
      "metadata": {
        "id": "w0_EW0TtDdSf",
        "colab_type": "code",
        "outputId": "b4100ece-2bf9-4286-8833-1ab90fdcb0ab",
        "colab": {
          "base_uri": "https://localhost:8080/",
          "height": 238
        }
      },
      "source": [
        "train_data_handcrafted = np.concatenate((train_data_reshaped, handcrafted_features_train), axis=1)\n",
        "test_data_handcrafted = np.concatenate((test_data_reshaped, handcrafted_features_test), axis=1)\n",
        "\n",
        "handcrafted_model = models.Sequential(name=\"Model with Handcrafted Features\")\n",
        "\n",
        "handcrafted_model.add(layers.Dense(10, activation='softmax', input_shape=(789,)))\n",
        "\n",
        "handcrafted_model.compile(optimizer='rmsprop', loss='categorical_crossentropy', \n",
        "              metrics=['accuracy'])\n",
        "\n",
        "history = handcrafted_model.fit(train_data_handcrafted, train_labels, epochs=5, \n",
        "                    batch_size=128, \n",
        "                    validation_data=(test_data_handcrafted, test_labels))\n",
        "test_loss, test_acc = handcrafted_model.evaluate(test_data_handcrafted, test_labels)\n",
        "print('test_acc: ', test_acc)\n"
      ],
      "execution_count": 13,
      "outputs": [
        {
          "output_type": "stream",
          "text": [
            "Train on 60000 samples, validate on 10000 samples\n",
            "Epoch 1/5\n",
            "60000/60000 [==============================] - 2s 41us/step - loss: 0.5721 - acc: 0.8628 - val_loss: 0.3021 - val_acc: 0.9202\n",
            "Epoch 2/5\n",
            "60000/60000 [==============================] - 2s 38us/step - loss: 0.2874 - acc: 0.9197 - val_loss: 0.2583 - val_acc: 0.9286\n",
            "Epoch 3/5\n",
            "60000/60000 [==============================] - 2s 37us/step - loss: 0.2550 - acc: 0.9276 - val_loss: 0.2415 - val_acc: 0.9316\n",
            "Epoch 4/5\n",
            "60000/60000 [==============================] - 2s 38us/step - loss: 0.2405 - acc: 0.9311 - val_loss: 0.2335 - val_acc: 0.9339\n",
            "Epoch 5/5\n",
            "60000/60000 [==============================] - 2s 37us/step - loss: 0.2319 - acc: 0.9336 - val_loss: 0.2279 - val_acc: 0.9349\n",
            "10000/10000 [==============================] - 1s 55us/step\n",
            "test_acc:  0.9349\n"
          ],
          "name": "stdout"
        }
      ]
    },
    {
      "cell_type": "markdown",
      "metadata": {
        "id": "VCtf8C2EHyIu",
        "colab_type": "text"
      },
      "source": [
        "### Handcrafted features model results"
      ]
    },
    {
      "cell_type": "code",
      "metadata": {
        "id": "8QWE9p3GH2EC",
        "colab_type": "code",
        "outputId": "d29e32f2-4f4e-4aaa-b735-2e8bc3fc1228",
        "colab": {
          "base_uri": "https://localhost:8080/",
          "height": 295
        }
      },
      "source": [
        "history_dict = history.history\n",
        "loss_values = history_dict['loss']\n",
        "test_loss_values = history_dict['val_loss']\n",
        "epochs_range = range(1, 6)\n",
        "\n",
        "plt.plot(epochs_range, loss_values, 'bo', label='Training loss')\n",
        "plt.plot(epochs_range, test_loss_values, 'ro', label='Test loss')\n",
        "plt.title('Training and test loss')\n",
        "plt.xlabel('Epochs')\n",
        "plt.ylabel('Loss')\n",
        "plt.legend()\n",
        "plt.show()"
      ],
      "execution_count": 14,
      "outputs": [
        {
          "output_type": "display_data",
          "data": {
            "image/png": "[encoded data removed]",
            "text/plain": [
              "<Figure size 432x288 with 1 Axes>"
            ]
          },
          "metadata": {
            "tags": []
          }
        }
      ]
    },
    {
      "cell_type": "code",
      "metadata": {
        "id": "T7LpZBg0SJdx",
        "colab_type": "code",
        "colab": {
          "base_uri": "https://localhost:8080/",
          "height": 295
        },
        "outputId": "597b7037-9221-425d-a1f7-3397dcb20515"
      },
      "source": [
        "acc_values = history_dict['acc']\n",
        "test_acc_values = history_dict['val_acc']\n",
        "epochs_range = range(1, 6)\n",
        "\n",
        "plt.plot(epochs_range, acc_values, 'bo', label='Training Accuracy')\n",
        "plt.plot(epochs_range, test_acc_values, 'ro', label='Test Accuracy')\n",
        "plt.title('Training and test accuracy')\n",
        "plt.xlabel('Epochs')\n",
        "plt.ylabel('Accuracy')\n",
        "plt.legend()\n",
        "plt.show()"
      ],
      "execution_count": 15,
      "outputs": [
        {
          "output_type": "display_data",
          "data": {
            "image/png": "[encoded data removed]",
            "text/plain": [
              "<Figure size 432x288 with 1 Axes>"
            ]
          },
          "metadata": {
            "tags": []
          }
        }
      ]
    }
  ]
}