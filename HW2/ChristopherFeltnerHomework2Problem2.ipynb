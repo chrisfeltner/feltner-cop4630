{
  "nbformat": 4,
  "nbformat_minor": 0,
  "metadata": {
    "colab": {
      "name": "ChristopherFeltnerHomework2Problem2.ipynb",
      "provenance": [],
      "include_colab_link": true
    },
    "kernelspec": {
      "name": "python3",
      "display_name": "Python 3"
    },
    "accelerator": "GPU"
  },
  "cells": [
    {
      "cell_type": "markdown",
      "metadata": {
        "id": "view-in-github",
        "colab_type": "text"
      },
      "source": [
        "<a href=\"https://colab.research.google.com/github/chrisfeltner/feltner-cop4630/blob/master/HW2/ChristopherFeltnerHomework2Problem2.ipynb\" target=\"_parent\"><img src=\"https://colab.research.google.com/assets/colab-badge.svg\" alt=\"Open In Colab\"/></a>"
      ]
    },
    {
      "cell_type": "markdown",
      "metadata": {
        "id": "rt44vyY1xW9b",
        "colab_type": "text"
      },
      "source": [
        "# Homework 2\n",
        "## Problem 2\n",
        "## Christopher Feltner"
      ]
    },
    {
      "cell_type": "markdown",
      "metadata": {
        "id": "l34GNy7tyNks",
        "colab_type": "text"
      },
      "source": [
        "## Loading the MNIST fashion data set"
      ]
    },
    {
      "cell_type": "code",
      "metadata": {
        "id": "FSJyddqGexl5",
        "colab_type": "code",
        "outputId": "649b4aba-3b28-4efa-e088-5946c6d07fb0",
        "colab": {
          "base_uri": "https://localhost:8080/",
          "height": 199
        }
      },
      "source": [
        "import tensorflow as tf\n",
        "from tensorflow import keras\n",
        "\n",
        "fashion_mnist = keras.datasets.fashion_mnist\n",
        "\n",
        "(train_images, train_labels), (test_images, test_labels) = fashion_mnist.load_data()"
      ],
      "execution_count": 0,
      "outputs": [
        {
          "output_type": "display_data",
          "data": {
            "text/html": [
              "<p style=\"color: red;\">\n",
              "The default version of TensorFlow in Colab will soon switch to TensorFlow 2.x.<br>\n",
              "We recommend you <a href=\"https://www.tensorflow.org/guide/migrate\" target=\"_blank\">upgrade</a> now \n",
              "or ensure your notebook will continue to use TensorFlow 1.x via the <code>%tensorflow_version 1.x</code> magic:\n",
              "<a href=\"https://colab.research.google.com/notebooks/tensorflow_version.ipynb\" target=\"_blank\">more info</a>.</p>\n"
            ],
            "text/plain": [
              "<IPython.core.display.HTML object>"
            ]
          },
          "metadata": {
            "tags": []
          }
        },
        {
          "output_type": "stream",
          "text": [
            "Downloading data from https://storage.googleapis.com/tensorflow/tf-keras-datasets/train-labels-idx1-ubyte.gz\n",
            "32768/29515 [=================================] - 0s 0us/step\n",
            "Downloading data from https://storage.googleapis.com/tensorflow/tf-keras-datasets/train-images-idx3-ubyte.gz\n",
            "26427392/26421880 [==============================] - 0s 0us/step\n",
            "Downloading data from https://storage.googleapis.com/tensorflow/tf-keras-datasets/t10k-labels-idx1-ubyte.gz\n",
            "8192/5148 [===============================================] - 0s 0us/step\n",
            "Downloading data from https://storage.googleapis.com/tensorflow/tf-keras-datasets/t10k-images-idx3-ubyte.gz\n",
            "4423680/4422102 [==============================] - 0s 0us/step\n"
          ],
          "name": "stdout"
        }
      ]
    },
    {
      "cell_type": "code",
      "metadata": {
        "id": "aa2r6ZRcO7XV",
        "colab_type": "code",
        "colab": {}
      },
      "source": [
        "class_names = ['T-shirt/top', 'Trouser', 'Pullover', 'Dress', 'Coat',\n",
        "               'Sandal', 'Shirt', 'Sneaker', 'Bag', 'Ankle boot']"
      ],
      "execution_count": 0,
      "outputs": []
    },
    {
      "cell_type": "markdown",
      "metadata": {
        "id": "JC5iBT_0OCSl",
        "colab_type": "text"
      },
      "source": [
        "## Preprocess the data"
      ]
    },
    {
      "cell_type": "code",
      "metadata": {
        "id": "inugSPsZNytV",
        "colab_type": "code",
        "colab": {}
      },
      "source": [
        "train_images = train_images / 255.0\n",
        "test_images = test_images / 255.0"
      ],
      "execution_count": 0,
      "outputs": []
    },
    {
      "cell_type": "markdown",
      "metadata": {
        "id": "TyMfCBkbar4d",
        "colab_type": "text"
      },
      "source": [
        "## Underfitting model\n",
        "### The model is too simple to explain the data and there are too few epochs"
      ]
    },
    {
      "cell_type": "code",
      "metadata": {
        "id": "K31dzEjbaq-r",
        "colab_type": "code",
        "outputId": "f1d61390-932c-480a-d382-fff9494013c5",
        "colab": {
          "base_uri": "https://localhost:8080/",
          "height": 173
        }
      },
      "source": [
        "model = keras.Sequential([\n",
        "    keras.layers.Flatten(input_shape=(28, 28)),\n",
        "    keras.layers.Dense(10, activation=tf.nn.softmax)\n",
        "])\n",
        "\n",
        "model.compile(optimizer='adam',\n",
        "             loss='sparse_categorical_crossentropy',\n",
        "             metrics=['accuracy'])\n",
        "\n",
        "epochs = 2\n",
        "history = model.fit(train_images, \n",
        "                      train_labels, \n",
        "                      epochs=epochs,  \n",
        "                      validation_data=(test_images, test_labels))"
      ],
      "execution_count": 0,
      "outputs": [
        {
          "output_type": "stream",
          "text": [
            "WARNING:tensorflow:From /usr/local/lib/python3.6/dist-packages/tensorflow_core/python/ops/resource_variable_ops.py:1630: calling BaseResourceVariable.__init__ (from tensorflow.python.ops.resource_variable_ops) with constraint is deprecated and will be removed in a future version.\n",
            "Instructions for updating:\n",
            "If using Keras pass *_constraint arguments to layers.\n",
            "Train on 60000 samples, validate on 10000 samples\n",
            "Epoch 1/2\n",
            "60000/60000 [==============================] - 6s 107us/sample - loss: 0.5991 - acc: 0.7993 - val_loss: 0.5073 - val_acc: 0.8251\n",
            "Epoch 2/2\n",
            "60000/60000 [==============================] - 6s 94us/sample - loss: 0.4617 - acc: 0.8427 - val_loss: 0.4828 - val_acc: 0.8352\n"
          ],
          "name": "stdout"
        }
      ]
    },
    {
      "cell_type": "code",
      "metadata": {
        "id": "4YPnI-uxa_-5",
        "colab_type": "code",
        "outputId": "cc92c1b1-8cf5-4fed-fe6f-d6d3bb30841a",
        "colab": {
          "base_uri": "https://localhost:8080/",
          "height": 295
        }
      },
      "source": [
        "history_dict = history.history\n",
        "loss_values = history_dict['loss']\n",
        "test_loss_values = history_dict['val_loss']\n",
        "epochs_range = range(1, epochs+1)\n",
        "\n",
        "import matplotlib.pyplot as plt\n",
        "\n",
        "plt.plot(epochs_range, loss_values, 'bo', label='Training loss')\n",
        "plt.plot(epochs_range, test_loss_values, 'ro', label='Test loss')\n",
        "plt.title('Training and test loss')\n",
        "plt.xlabel('Epochs')\n",
        "plt.ylabel('Loss')\n",
        "plt.legend()\n",
        "plt.show()"
      ],
      "execution_count": 0,
      "outputs": [
        {
          "output_type": "display_data",
          "data": {
            "image/png": "[encoded data removed]",
            "text/plain": [
              "<Figure size 432x288 with 1 Axes>"
            ]
          },
          "metadata": {
            "tags": []
          }
        }
      ]
    },
    {
      "cell_type": "code",
      "metadata": {
        "id": "KzZQlErsbj6m",
        "colab_type": "code",
        "outputId": "fda8f366-028b-45f1-fc44-5d5e8067c858",
        "colab": {
          "base_uri": "https://localhost:8080/",
          "height": 295
        }
      },
      "source": [
        "acc_values = history_dict['acc']\n",
        "test_acc_values = history_dict['val_acc']\n",
        "\n",
        "plt.plot(epochs_range, acc_values, 'bo', label='Training accuracy')\n",
        "plt.plot(epochs_range, test_acc_values, 'ro', label='Test accuracy')\n",
        "plt.title('Training and test accuracy')\n",
        "plt.xlabel('Epochs')\n",
        "plt.ylabel('Accuracy')\n",
        "plt.legend()\n",
        "plt.show()"
      ],
      "execution_count": 0,
      "outputs": [
        {
          "output_type": "display_data",
          "data": {
            "image/png": "[encoded data removed]",
            "text/plain": [
              "<Figure size 432x288 with 1 Axes>"
            ]
          },
          "metadata": {
            "tags": []
          }
        }
      ]
    },
    {
      "cell_type": "markdown",
      "metadata": {
        "id": "UvbVj_W0bx_G",
        "colab_type": "text"
      },
      "source": [
        "## Overfitting Model\n",
        "### The model is unnecessarily complex and no dropout is used"
      ]
    },
    {
      "cell_type": "code",
      "metadata": {
        "id": "TXU4vwydbz64",
        "colab_type": "code",
        "outputId": "17fd8ec6-61b7-4f47-baca-917e3defa885",
        "colab": {
          "base_uri": "https://localhost:8080/",
          "height": 1000
        }
      },
      "source": [
        "\n",
        "model = keras.Sequential([\n",
        "    keras.layers.Flatten(input_shape=(28, 28)),\n",
        "    keras.layers.Dense(512, activation=tf.nn.relu),\n",
        "    keras.layers.Dense(512, activation=tf.nn.relu),\n",
        "    keras.layers.Dense(512, activation=tf.nn.relu),\n",
        "    keras.layers.Dense(512, activation=tf.nn.relu),\n",
        "    keras.layers.Dense(10, activation=tf.nn.softmax)\n",
        "])\n",
        "\n",
        "model.compile(optimizer='adam',\n",
        "             loss='sparse_categorical_crossentropy',\n",
        "             metrics=['accuracy'])\n",
        "\n",
        "\n",
        "epochs = 30\n",
        "history = model.fit(train_images, \n",
        "                      train_labels, \n",
        "                      epochs=epochs,  \n",
        "                      validation_data=(test_images, test_labels))"
      ],
      "execution_count": 0,
      "outputs": [
        {
          "output_type": "stream",
          "text": [
            "Train on 60000 samples, validate on 10000 samples\n",
            "Epoch 1/30\n",
            "60000/60000 [==============================] - 10s 158us/sample - loss: 0.4985 - acc: 0.8202 - val_loss: 0.4333 - val_acc: 0.8488\n",
            "Epoch 2/30\n",
            "60000/60000 [==============================] - 9s 155us/sample - loss: 0.3755 - acc: 0.8651 - val_loss: 0.4729 - val_acc: 0.8283\n",
            "Epoch 3/30\n",
            "60000/60000 [==============================] - 9s 155us/sample - loss: 0.3395 - acc: 0.8747 - val_loss: 0.3680 - val_acc: 0.8666\n",
            "Epoch 4/30\n",
            "60000/60000 [==============================] - 9s 156us/sample - loss: 0.3176 - acc: 0.8831 - val_loss: 0.3911 - val_acc: 0.8634\n",
            "Epoch 5/30\n",
            "60000/60000 [==============================] - 9s 157us/sample - loss: 0.2983 - acc: 0.8898 - val_loss: 0.3517 - val_acc: 0.8779\n",
            "Epoch 6/30\n",
            "60000/60000 [==============================] - 9s 156us/sample - loss: 0.2796 - acc: 0.8966 - val_loss: 0.3627 - val_acc: 0.8683\n",
            "Epoch 7/30\n",
            "60000/60000 [==============================] - 9s 157us/sample - loss: 0.2726 - acc: 0.8985 - val_loss: 0.3370 - val_acc: 0.8793\n",
            "Epoch 8/30\n",
            "60000/60000 [==============================] - 9s 157us/sample - loss: 0.2587 - acc: 0.9038 - val_loss: 0.3375 - val_acc: 0.8834\n",
            "Epoch 9/30\n",
            "60000/60000 [==============================] - 9s 158us/sample - loss: 0.2492 - acc: 0.9064 - val_loss: 0.3611 - val_acc: 0.8775\n",
            "Epoch 10/30\n",
            "60000/60000 [==============================] - 9s 156us/sample - loss: 0.2420 - acc: 0.9098 - val_loss: 0.3382 - val_acc: 0.8870\n",
            "Epoch 11/30\n",
            "60000/60000 [==============================] - 9s 156us/sample - loss: 0.2334 - acc: 0.9115 - val_loss: 0.3584 - val_acc: 0.8868\n",
            "Epoch 12/30\n",
            "60000/60000 [==============================] - 9s 157us/sample - loss: 0.2262 - acc: 0.9136 - val_loss: 0.3312 - val_acc: 0.8886\n",
            "Epoch 13/30\n",
            "60000/60000 [==============================] - 9s 155us/sample - loss: 0.2208 - acc: 0.9153 - val_loss: 0.3578 - val_acc: 0.8841\n",
            "Epoch 14/30\n",
            "60000/60000 [==============================] - 9s 155us/sample - loss: 0.2135 - acc: 0.9194 - val_loss: 0.3905 - val_acc: 0.8793\n",
            "Epoch 15/30\n",
            "60000/60000 [==============================] - 9s 156us/sample - loss: 0.2090 - acc: 0.9220 - val_loss: 0.3776 - val_acc: 0.8868\n",
            "Epoch 16/30\n",
            "60000/60000 [==============================] - 9s 157us/sample - loss: 0.2052 - acc: 0.9230 - val_loss: 0.3865 - val_acc: 0.8803\n",
            "Epoch 17/30\n",
            "60000/60000 [==============================] - 9s 156us/sample - loss: 0.2004 - acc: 0.9256 - val_loss: 0.3838 - val_acc: 0.8901\n",
            "Epoch 18/30\n",
            "60000/60000 [==============================] - 9s 156us/sample - loss: 0.1961 - acc: 0.9264 - val_loss: 0.3768 - val_acc: 0.8954\n",
            "Epoch 19/30\n",
            "60000/60000 [==============================] - 9s 157us/sample - loss: 0.1912 - acc: 0.9280 - val_loss: 0.3798 - val_acc: 0.8934\n",
            "Epoch 20/30\n",
            "60000/60000 [==============================] - 9s 155us/sample - loss: 0.1859 - acc: 0.9297 - val_loss: 0.3937 - val_acc: 0.8894\n",
            "Epoch 21/30\n",
            "60000/60000 [==============================] - 9s 158us/sample - loss: 0.1834 - acc: 0.9310 - val_loss: 0.3841 - val_acc: 0.8903\n",
            "Epoch 22/30\n",
            "60000/60000 [==============================] - 10s 165us/sample - loss: 0.1756 - acc: 0.9337 - val_loss: 0.3757 - val_acc: 0.8912\n",
            "Epoch 23/30\n",
            "60000/60000 [==============================] - 9s 157us/sample - loss: 0.1726 - acc: 0.9349 - val_loss: 0.4629 - val_acc: 0.8913\n",
            "Epoch 24/30\n",
            "60000/60000 [==============================] - 9s 156us/sample - loss: 0.1691 - acc: 0.9347 - val_loss: 0.4318 - val_acc: 0.8871\n",
            "Epoch 25/30\n",
            "60000/60000 [==============================] - 9s 157us/sample - loss: 0.1708 - acc: 0.9355 - val_loss: 0.4148 - val_acc: 0.8914\n",
            "Epoch 26/30\n",
            "60000/60000 [==============================] - 10s 162us/sample - loss: 0.1648 - acc: 0.9374 - val_loss: 0.3904 - val_acc: 0.8960\n",
            "Epoch 27/30\n",
            "60000/60000 [==============================] - 9s 157us/sample - loss: 0.1626 - acc: 0.9384 - val_loss: 0.3875 - val_acc: 0.8938\n",
            "Epoch 28/30\n",
            "60000/60000 [==============================] - 9s 156us/sample - loss: 0.1615 - acc: 0.9396 - val_loss: 0.4574 - val_acc: 0.8945\n",
            "Epoch 29/30\n",
            "60000/60000 [==============================] - 9s 158us/sample - loss: 0.1539 - acc: 0.9421 - val_loss: 0.3974 - val_acc: 0.8937\n",
            "Epoch 30/30\n",
            "60000/60000 [==============================] - 9s 158us/sample - loss: 0.1526 - acc: 0.9425 - val_loss: 0.4538 - val_acc: 0.8932\n"
          ],
          "name": "stdout"
        }
      ]
    },
    {
      "cell_type": "code",
      "metadata": {
        "id": "TTSEHJwEgI7c",
        "colab_type": "code",
        "outputId": "193791e1-b7e1-45b0-9d91-76fd238bb0be",
        "colab": {
          "base_uri": "https://localhost:8080/",
          "height": 295
        }
      },
      "source": [
        "history_dict = history.history\n",
        "loss_values = history_dict['loss']\n",
        "test_loss_values = history_dict['val_loss']\n",
        "epochs_range = range(1, epochs+1)\n",
        "\n",
        "plt.plot(epochs_range, loss_values, 'bo', label='Training loss')\n",
        "plt.plot(epochs_range, test_loss_values, 'ro', label='Test loss')\n",
        "plt.title('Training and test loss')\n",
        "plt.xlabel('Epochs')\n",
        "plt.ylabel('Loss')\n",
        "plt.legend()\n",
        "plt.show()"
      ],
      "execution_count": 0,
      "outputs": [
        {
          "output_type": "display_data",
          "data": {
            "image/png": "[encoded data removed]",
            "text/plain": [
              "<Figure size 432x288 with 1 Axes>"
            ]
          },
          "metadata": {
            "tags": []
          }
        }
      ]
    },
    {
      "cell_type": "code",
      "metadata": {
        "id": "w1A5j2XOgPCU",
        "colab_type": "code",
        "outputId": "e3a22bdd-c66e-455e-bb51-c220cdaeffb2",
        "colab": {
          "base_uri": "https://localhost:8080/",
          "height": 295
        }
      },
      "source": [
        "acc_values = history_dict['acc']\n",
        "test_acc_values = history_dict['val_acc']\n",
        "\n",
        "plt.plot(epochs_range, acc_values, 'bo', label='Training accuracy')\n",
        "plt.plot(epochs_range, test_acc_values, 'ro', label='Test accuracy')\n",
        "plt.title('Training and test accuracy')\n",
        "plt.xlabel('Epochs')\n",
        "plt.ylabel('Accuracy')\n",
        "plt.legend()\n",
        "plt.show()"
      ],
      "execution_count": 0,
      "outputs": [
        {
          "output_type": "display_data",
          "data": {
            "image/png": "[encoded data removed]",
            "text/plain": [
              "<Figure size 432x288 with 1 Axes>"
            ]
          },
          "metadata": {
            "tags": []
          }
        }
      ]
    },
    {
      "cell_type": "markdown",
      "metadata": {
        "id": "OA975wHjOJI-",
        "colab_type": "text"
      },
      "source": [
        "## Pretty Good Model\n",
        "### Uses dropout to fight overfitting"
      ]
    },
    {
      "cell_type": "code",
      "metadata": {
        "id": "ZX6SGTpMOIKN",
        "colab_type": "code",
        "outputId": "67c9c166-cd41-4a98-e3e4-f7ccf021fb05",
        "colab": {
          "base_uri": "https://localhost:8080/",
          "height": 1000
        }
      },
      "source": [
        "# set up the layers\n",
        "\n",
        "model = keras.Sequential([\n",
        "    keras.layers.Flatten(input_shape=(28, 28)),\n",
        "    keras.layers.Dense(300, activation=tf.nn.relu),\n",
        "    keras.layers.Dropout(0.5),\n",
        "    keras.layers.Dense(300, activation=tf.nn.relu),\n",
        "    keras.layers.Dropout(0.4),\n",
        "    keras.layers.Dense(10, activation=tf.nn.softmax)\n",
        "])\n",
        "\n",
        "# compile the model\n",
        "\n",
        "model.compile(optimizer='adam',\n",
        "             loss='sparse_categorical_crossentropy',\n",
        "             metrics=['accuracy'])\n",
        "\n",
        "# train the model\n",
        "epochs = 30\n",
        "history = model.fit(train_images, \n",
        "                      train_labels, \n",
        "                      epochs=epochs,  \n",
        "                      validation_data=(test_images, test_labels))"
      ],
      "execution_count": 0,
      "outputs": [
        {
          "output_type": "stream",
          "text": [
            "Train on 60000 samples, validate on 10000 samples\n",
            "Epoch 1/30\n",
            "60000/60000 [==============================] - 8s 129us/sample - loss: 0.6256 - acc: 0.7739 - val_loss: 0.4471 - val_acc: 0.8392\n",
            "Epoch 2/30\n",
            "60000/60000 [==============================] - 7s 124us/sample - loss: 0.4838 - acc: 0.8248 - val_loss: 0.4078 - val_acc: 0.8518\n",
            "Epoch 3/30\n",
            "60000/60000 [==============================] - 7s 125us/sample - loss: 0.4488 - acc: 0.8371 - val_loss: 0.3944 - val_acc: 0.8606\n",
            "Epoch 4/30\n",
            "60000/60000 [==============================] - 7s 124us/sample - loss: 0.4331 - acc: 0.8426 - val_loss: 0.3787 - val_acc: 0.8638\n",
            "Epoch 5/30\n",
            "60000/60000 [==============================] - 7s 124us/sample - loss: 0.4151 - acc: 0.8476 - val_loss: 0.3832 - val_acc: 0.8660\n",
            "Epoch 6/30\n",
            "60000/60000 [==============================] - 7s 125us/sample - loss: 0.4067 - acc: 0.8536 - val_loss: 0.3793 - val_acc: 0.8648\n",
            "Epoch 7/30\n",
            "60000/60000 [==============================] - 7s 125us/sample - loss: 0.3961 - acc: 0.8547 - val_loss: 0.3825 - val_acc: 0.8589\n",
            "Epoch 8/30\n",
            "60000/60000 [==============================] - 8s 125us/sample - loss: 0.3856 - acc: 0.8603 - val_loss: 0.3691 - val_acc: 0.8658\n",
            "Epoch 9/30\n",
            "60000/60000 [==============================] - 7s 124us/sample - loss: 0.3838 - acc: 0.8619 - val_loss: 0.3615 - val_acc: 0.8716\n",
            "Epoch 10/30\n",
            "60000/60000 [==============================] - 7s 124us/sample - loss: 0.3775 - acc: 0.8626 - val_loss: 0.3587 - val_acc: 0.8705\n",
            "Epoch 11/30\n",
            "60000/60000 [==============================] - 7s 124us/sample - loss: 0.3733 - acc: 0.8640 - val_loss: 0.3575 - val_acc: 0.8682\n",
            "Epoch 12/30\n",
            "60000/60000 [==============================] - 8s 125us/sample - loss: 0.3709 - acc: 0.8643 - val_loss: 0.3601 - val_acc: 0.8692\n",
            "Epoch 13/30\n",
            "60000/60000 [==============================] - 7s 124us/sample - loss: 0.3619 - acc: 0.8684 - val_loss: 0.3632 - val_acc: 0.8738\n",
            "Epoch 14/30\n",
            "60000/60000 [==============================] - 7s 125us/sample - loss: 0.3613 - acc: 0.8699 - val_loss: 0.3580 - val_acc: 0.8721\n",
            "Epoch 15/30\n",
            "60000/60000 [==============================] - 7s 124us/sample - loss: 0.3547 - acc: 0.8721 - val_loss: 0.3556 - val_acc: 0.8744\n",
            "Epoch 16/30\n",
            "60000/60000 [==============================] - 7s 124us/sample - loss: 0.3504 - acc: 0.8727 - val_loss: 0.3401 - val_acc: 0.8766\n",
            "Epoch 17/30\n",
            "60000/60000 [==============================] - 8s 130us/sample - loss: 0.3499 - acc: 0.8727 - val_loss: 0.3496 - val_acc: 0.8790\n",
            "Epoch 18/30\n",
            "60000/60000 [==============================] - 8s 128us/sample - loss: 0.3446 - acc: 0.8720 - val_loss: 0.3485 - val_acc: 0.8786\n",
            "Epoch 19/30\n",
            "60000/60000 [==============================] - 7s 125us/sample - loss: 0.3450 - acc: 0.8752 - val_loss: 0.3480 - val_acc: 0.8751\n",
            "Epoch 20/30\n",
            "60000/60000 [==============================] - 8s 129us/sample - loss: 0.3446 - acc: 0.8748 - val_loss: 0.3473 - val_acc: 0.8792\n",
            "Epoch 21/30\n",
            "60000/60000 [==============================] - 8s 125us/sample - loss: 0.3376 - acc: 0.8768 - val_loss: 0.3468 - val_acc: 0.8786\n",
            "Epoch 22/30\n",
            "60000/60000 [==============================] - 7s 125us/sample - loss: 0.3403 - acc: 0.8767 - val_loss: 0.3656 - val_acc: 0.8711\n",
            "Epoch 23/30\n",
            "60000/60000 [==============================] - 7s 124us/sample - loss: 0.3347 - acc: 0.8790 - val_loss: 0.3497 - val_acc: 0.8793\n",
            "Epoch 24/30\n",
            "60000/60000 [==============================] - 7s 123us/sample - loss: 0.3373 - acc: 0.8788 - val_loss: 0.3488 - val_acc: 0.8748\n",
            "Epoch 25/30\n",
            "60000/60000 [==============================] - 7s 124us/sample - loss: 0.3311 - acc: 0.8801 - val_loss: 0.3381 - val_acc: 0.8812\n",
            "Epoch 26/30\n",
            "60000/60000 [==============================] - 7s 124us/sample - loss: 0.3269 - acc: 0.8801 - val_loss: 0.3386 - val_acc: 0.8799\n",
            "Epoch 27/30\n",
            "60000/60000 [==============================] - 7s 124us/sample - loss: 0.3285 - acc: 0.8809 - val_loss: 0.3410 - val_acc: 0.8837\n",
            "Epoch 28/30\n",
            "60000/60000 [==============================] - 7s 124us/sample - loss: 0.3253 - acc: 0.8815 - val_loss: 0.3344 - val_acc: 0.8802\n",
            "Epoch 29/30\n",
            "60000/60000 [==============================] - 7s 125us/sample - loss: 0.3224 - acc: 0.8816 - val_loss: 0.3454 - val_acc: 0.8734\n",
            "Epoch 30/30\n",
            "60000/60000 [==============================] - 7s 124us/sample - loss: 0.3186 - acc: 0.8836 - val_loss: 0.3436 - val_acc: 0.8789\n"
          ],
          "name": "stdout"
        }
      ]
    },
    {
      "cell_type": "code",
      "metadata": {
        "id": "rlKIF6ijOkiE",
        "colab_type": "code",
        "outputId": "a999b491-5e49-47e2-bc03-bd1d0e089704",
        "colab": {
          "base_uri": "https://localhost:8080/",
          "height": 51
        }
      },
      "source": [
        "test_loss, test_acc = model.evaluate(test_images, test_labels)\n",
        "\n",
        "print('Test accuracy:', test_acc)"
      ],
      "execution_count": 0,
      "outputs": [
        {
          "output_type": "stream",
          "text": [
            "10000/10000 [==============================] - 1s 70us/sample - loss: 0.3436 - acc: 0.8789\n",
            "Test accuracy: 0.8789\n"
          ],
          "name": "stdout"
        }
      ]
    },
    {
      "cell_type": "code",
      "metadata": {
        "id": "3b5OCE5YTrEc",
        "colab_type": "code",
        "colab": {}
      },
      "source": [
        "history_dict = history.history\n",
        "loss_values = history_dict['loss']\n",
        "test_loss_values = history_dict['val_loss']\n",
        "epochs_range = range(1, epochs+1)"
      ],
      "execution_count": 0,
      "outputs": []
    },
    {
      "cell_type": "code",
      "metadata": {
        "id": "y98AOblYT3Pk",
        "colab_type": "code",
        "outputId": "ea68b5a5-c0df-417a-91ce-a81fe64f2b07",
        "colab": {
          "base_uri": "https://localhost:8080/",
          "height": 295
        }
      },
      "source": [
        "import matplotlib.pyplot as plt\n",
        "\n",
        "plt.plot(epochs_range, loss_values, 'bo', label='Training loss')\n",
        "plt.plot(epochs_range, test_loss_values, 'ro', label='Test loss')\n",
        "plt.title('Training and test loss')\n",
        "plt.xlabel('Epochs')\n",
        "plt.ylabel('Loss')\n",
        "plt.legend()\n",
        "plt.show()"
      ],
      "execution_count": 0,
      "outputs": [
        {
          "output_type": "display_data",
          "data": {
            "image/png": "[encoded data removed]",
            "text/plain": [
              "<Figure size 432x288 with 1 Axes>"
            ]
          },
          "metadata": {
            "tags": []
          }
        }
      ]
    },
    {
      "cell_type": "code",
      "metadata": {
        "id": "790AkDaTWuZU",
        "colab_type": "code",
        "colab": {}
      },
      "source": [
        "acc_values = history_dict['acc']\n",
        "test_acc_values = history_dict['val_acc']"
      ],
      "execution_count": 0,
      "outputs": []
    },
    {
      "cell_type": "code",
      "metadata": {
        "id": "7BkIfPQ4W39E",
        "colab_type": "code",
        "outputId": "e33c694c-375d-4a80-e3a3-81915dbdb11f",
        "colab": {
          "base_uri": "https://localhost:8080/",
          "height": 295
        }
      },
      "source": [
        "plt.plot(epochs_range, acc_values, 'bo', label='Training accuracy')\n",
        "plt.plot(epochs_range, test_acc_values, 'ro', label='Test accuracy')\n",
        "plt.title('Training and test accuracy')\n",
        "plt.xlabel('Epochs')\n",
        "plt.ylabel('Accuracy')\n",
        "plt.legend()\n",
        "plt.show()"
      ],
      "execution_count": 0,
      "outputs": [
        {
          "output_type": "display_data",
          "data": {
            "image/png": "[encoded data removed]",
            "text/plain": [
              "<Figure size 432x288 with 1 Axes>"
            ]
          },
          "metadata": {
            "tags": []
          }
        }
      ]
    }
  ]
}