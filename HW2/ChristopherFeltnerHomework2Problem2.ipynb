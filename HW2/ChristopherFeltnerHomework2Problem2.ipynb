{
  "nbformat": 4,
  "nbformat_minor": 0,
  "metadata": {
    "colab": {
      "name": "ChristopherFeltnerHomework2Problem2.ipynb",
      "provenance": [],
      "include_colab_link": true
    },
    "kernelspec": {
      "name": "python3",
      "display_name": "Python 3"
    },
    "accelerator": "GPU"
  },
  "cells": [
    {
      "cell_type": "markdown",
      "metadata": {
        "id": "view-in-github",
        "colab_type": "text"
      },
      "source": [
        "<a href=\"https://colab.research.google.com/github/chrisfeltner/feltner-cop4630/blob/master/HW2/ChristopherFeltnerHomework2Problem2.ipynb\" target=\"_parent\"><img src=\"https://colab.research.google.com/assets/colab-badge.svg\" alt=\"Open In Colab\"/></a>"
      ]
    },
    {
      "cell_type": "markdown",
      "metadata": {
        "id": "rt44vyY1xW9b",
        "colab_type": "text"
      },
      "source": [
        "# Homework 2\n",
        "## Problem 2\n",
        "## Christopher Feltner"
      ]
    },
    {
      "cell_type": "markdown",
      "metadata": {
        "id": "l34GNy7tyNks",
        "colab_type": "text"
      },
      "source": [
        "## Loading the MNIST fashion data set"
      ]
    },
    {
      "cell_type": "code",
      "metadata": {
        "id": "FSJyddqGexl5",
        "colab_type": "code",
        "outputId": "7d4931c0-1dcc-426b-b9f9-a29f29c09ec5",
        "colab": {
          "base_uri": "https://localhost:8080/",
          "height": 199
        }
      },
      "source": [
        "import tensorflow as tf\n",
        "from tensorflow import keras\n",
        "\n",
        "fashion_mnist = keras.datasets.fashion_mnist\n",
        "\n",
        "(train_images, train_labels), (test_images, test_labels) = fashion_mnist.load_data()"
      ],
      "execution_count": 2,
      "outputs": [
        {
          "output_type": "display_data",
          "data": {
            "text/html": [
              "<p style=\"color: red;\">\n",
              "The default version of TensorFlow in Colab will soon switch to TensorFlow 2.x.<br>\n",
              "We recommend you <a href=\"https://www.tensorflow.org/guide/migrate\" target=\"_blank\">upgrade</a> now \n",
              "or ensure your notebook will continue to use TensorFlow 1.x via the <code>%tensorflow_version 1.x</code> magic:\n",
              "<a href=\"https://colab.research.google.com/notebooks/tensorflow_version.ipynb\" target=\"_blank\">more info</a>.</p>\n"
            ],
            "text/plain": [
              "<IPython.core.display.HTML object>"
            ]
          },
          "metadata": {
            "tags": []
          }
        },
        {
          "output_type": "stream",
          "text": [
            "Downloading data from https://storage.googleapis.com/tensorflow/tf-keras-datasets/train-labels-idx1-ubyte.gz\n",
            "32768/29515 [=================================] - 0s 0us/step\n",
            "Downloading data from https://storage.googleapis.com/tensorflow/tf-keras-datasets/train-images-idx3-ubyte.gz\n",
            "26427392/26421880 [==============================] - 0s 0us/step\n",
            "Downloading data from https://storage.googleapis.com/tensorflow/tf-keras-datasets/t10k-labels-idx1-ubyte.gz\n",
            "8192/5148 [===============================================] - 0s 0us/step\n",
            "Downloading data from https://storage.googleapis.com/tensorflow/tf-keras-datasets/t10k-images-idx3-ubyte.gz\n",
            "4423680/4422102 [==============================] - 0s 0us/step\n"
          ],
          "name": "stdout"
        }
      ]
    },
    {
      "cell_type": "code",
      "metadata": {
        "id": "aa2r6ZRcO7XV",
        "colab_type": "code",
        "colab": {}
      },
      "source": [
        "class_names = ['T-shirt/top', 'Trouser', 'Pullover', 'Dress', 'Coat',\n",
        "               'Sandal', 'Shirt', 'Sneaker', 'Bag', 'Ankle boot']"
      ],
      "execution_count": 0,
      "outputs": []
    },
    {
      "cell_type": "markdown",
      "metadata": {
        "id": "JC5iBT_0OCSl",
        "colab_type": "text"
      },
      "source": [
        "## Preprocess the data"
      ]
    },
    {
      "cell_type": "code",
      "metadata": {
        "id": "inugSPsZNytV",
        "colab_type": "code",
        "colab": {}
      },
      "source": [
        "train_images = train_images / 255.0\n",
        "test_images = test_images / 255.0"
      ],
      "execution_count": 0,
      "outputs": []
    },
    {
      "cell_type": "markdown",
      "metadata": {
        "id": "TyMfCBkbar4d",
        "colab_type": "text"
      },
      "source": [
        "## Underfitting model\n",
        "### The model is too simple to explain the data and there are too few epochs"
      ]
    },
    {
      "cell_type": "code",
      "metadata": {
        "id": "K31dzEjbaq-r",
        "colab_type": "code",
        "outputId": "c2c084d2-3c07-4f1f-97e3-129911078d9b",
        "colab": {
          "base_uri": "https://localhost:8080/",
          "height": 173
        }
      },
      "source": [
        "model = keras.Sequential([\n",
        "    keras.layers.Flatten(input_shape=(28, 28)),\n",
        "    keras.layers.Dense(10, activation=tf.nn.softmax)\n",
        "])\n",
        "\n",
        "model.compile(optimizer='adam',\n",
        "             loss='sparse_categorical_crossentropy',\n",
        "             metrics=['accuracy'])\n",
        "\n",
        "epochs = 2\n",
        "history = model.fit(train_images, \n",
        "                      train_labels, \n",
        "                      epochs=epochs,  \n",
        "                      validation_data=(test_images, test_labels))"
      ],
      "execution_count": 5,
      "outputs": [
        {
          "output_type": "stream",
          "text": [
            "WARNING:tensorflow:From /usr/local/lib/python3.6/dist-packages/tensorflow_core/python/ops/resource_variable_ops.py:1630: calling BaseResourceVariable.__init__ (from tensorflow.python.ops.resource_variable_ops) with constraint is deprecated and will be removed in a future version.\n",
            "Instructions for updating:\n",
            "If using Keras pass *_constraint arguments to layers.\n",
            "Train on 60000 samples, validate on 10000 samples\n",
            "Epoch 1/2\n",
            "60000/60000 [==============================] - 4s 75us/sample - loss: 0.5996 - acc: 0.7983 - val_loss: 0.5007 - val_acc: 0.8284\n",
            "Epoch 2/2\n",
            "60000/60000 [==============================] - 4s 61us/sample - loss: 0.4615 - acc: 0.8430 - val_loss: 0.4758 - val_acc: 0.8367\n"
          ],
          "name": "stdout"
        }
      ]
    },
    {
      "cell_type": "code",
      "metadata": {
        "id": "4YPnI-uxa_-5",
        "colab_type": "code",
        "outputId": "4c84ffa0-6152-4b49-fcbe-4abca1999b53",
        "colab": {
          "base_uri": "https://localhost:8080/",
          "height": 295
        }
      },
      "source": [
        "history_dict = history.history\n",
        "loss_values = history_dict['loss']\n",
        "test_loss_values = history_dict['val_loss']\n",
        "epochs_range = range(1, epochs+1)\n",
        "\n",
        "import matplotlib.pyplot as plt\n",
        "\n",
        "plt.plot(epochs_range, loss_values, 'bo', label='Training loss')\n",
        "plt.plot(epochs_range, test_loss_values, 'ro', label='Test loss')\n",
        "plt.title('Training and test loss')\n",
        "plt.xlabel('Epochs')\n",
        "plt.ylabel('Loss')\n",
        "plt.legend()\n",
        "plt.show()"
      ],
      "execution_count": 6,
      "outputs": [
        {
          "output_type": "display_data",
          "data": {
            "image/png": "[encoded data removed]",
            "text/plain": [
              "<Figure size 432x288 with 1 Axes>"
            ]
          },
          "metadata": {
            "tags": []
          }
        }
      ]
    },
    {
      "cell_type": "code",
      "metadata": {
        "id": "KzZQlErsbj6m",
        "colab_type": "code",
        "outputId": "ff1b1b1d-6d33-481f-c5d1-d65c01b708e5",
        "colab": {
          "base_uri": "https://localhost:8080/",
          "height": 295
        }
      },
      "source": [
        "acc_values = history_dict['acc']\n",
        "test_acc_values = history_dict['val_acc']\n",
        "\n",
        "plt.plot(epochs_range, acc_values, 'bo', label='Training accuracy')\n",
        "plt.plot(epochs_range, test_acc_values, 'ro', label='Test accuracy')\n",
        "plt.title('Training and test accuracy')\n",
        "plt.xlabel('Epochs')\n",
        "plt.ylabel('Accuracy')\n",
        "plt.legend()\n",
        "plt.show()"
      ],
      "execution_count": 7,
      "outputs": [
        {
          "output_type": "display_data",
          "data": {
            "image/png": "[encoded data removed]",
            "text/plain": [
              "<Figure size 432x288 with 1 Axes>"
            ]
          },
          "metadata": {
            "tags": []
          }
        }
      ]
    },
    {
      "cell_type": "markdown",
      "metadata": {
        "id": "UvbVj_W0bx_G",
        "colab_type": "text"
      },
      "source": [
        "## Overfitting Model\n",
        "### The model is unnecessarily complex and no dropout is used"
      ]
    },
    {
      "cell_type": "code",
      "metadata": {
        "id": "TXU4vwydbz64",
        "colab_type": "code",
        "outputId": "7f916e13-d85b-4885-b520-1f0e8972adbb",
        "colab": {
          "base_uri": "https://localhost:8080/",
          "height": 1000
        }
      },
      "source": [
        "\n",
        "model = keras.Sequential([\n",
        "    keras.layers.Flatten(input_shape=(28, 28)),\n",
        "    keras.layers.Dense(512, activation=tf.nn.relu),\n",
        "    keras.layers.Dense(512, activation=tf.nn.relu),\n",
        "    keras.layers.Dense(512, activation=tf.nn.relu),\n",
        "    keras.layers.Dense(512, activation=tf.nn.relu),\n",
        "    keras.layers.Dense(10, activation=tf.nn.softmax)\n",
        "])\n",
        "\n",
        "model.compile(optimizer='adam',\n",
        "             loss='sparse_categorical_crossentropy',\n",
        "             metrics=['accuracy'])\n",
        "\n",
        "\n",
        "epochs = 30\n",
        "history = model.fit(train_images, \n",
        "                      train_labels, \n",
        "                      epochs=epochs,  \n",
        "                      validation_data=(test_images, test_labels))"
      ],
      "execution_count": 8,
      "outputs": [
        {
          "output_type": "stream",
          "text": [
            "Train on 60000 samples, validate on 10000 samples\n",
            "Epoch 1/30\n",
            "60000/60000 [==============================] - 5s 83us/sample - loss: 0.4972 - acc: 0.8205 - val_loss: 0.4404 - val_acc: 0.8296\n",
            "Epoch 2/30\n",
            "60000/60000 [==============================] - 5s 80us/sample - loss: 0.3764 - acc: 0.8631 - val_loss: 0.3970 - val_acc: 0.8533\n",
            "Epoch 3/30\n",
            "60000/60000 [==============================] - 5s 79us/sample - loss: 0.3381 - acc: 0.8757 - val_loss: 0.4284 - val_acc: 0.8447\n",
            "Epoch 4/30\n",
            "60000/60000 [==============================] - 5s 79us/sample - loss: 0.3193 - acc: 0.8823 - val_loss: 0.3638 - val_acc: 0.8651\n",
            "Epoch 5/30\n",
            "60000/60000 [==============================] - 5s 79us/sample - loss: 0.2983 - acc: 0.8905 - val_loss: 0.3748 - val_acc: 0.8682\n",
            "Epoch 6/30\n",
            "60000/60000 [==============================] - 5s 80us/sample - loss: 0.2837 - acc: 0.8938 - val_loss: 0.3642 - val_acc: 0.8701\n",
            "Epoch 7/30\n",
            "60000/60000 [==============================] - 5s 79us/sample - loss: 0.2717 - acc: 0.8996 - val_loss: 0.3795 - val_acc: 0.8739\n",
            "Epoch 8/30\n",
            "60000/60000 [==============================] - 5s 80us/sample - loss: 0.2631 - acc: 0.9023 - val_loss: 0.3863 - val_acc: 0.8735\n",
            "Epoch 9/30\n",
            "60000/60000 [==============================] - 5s 80us/sample - loss: 0.2537 - acc: 0.9044 - val_loss: 0.3627 - val_acc: 0.8766\n",
            "Epoch 10/30\n",
            "60000/60000 [==============================] - 5s 79us/sample - loss: 0.2424 - acc: 0.9094 - val_loss: 0.3737 - val_acc: 0.8805\n",
            "Epoch 11/30\n",
            "60000/60000 [==============================] - 5s 79us/sample - loss: 0.2358 - acc: 0.9124 - val_loss: 0.3786 - val_acc: 0.8784\n",
            "Epoch 12/30\n",
            "60000/60000 [==============================] - 5s 80us/sample - loss: 0.2280 - acc: 0.9144 - val_loss: 0.3257 - val_acc: 0.8903\n",
            "Epoch 13/30\n",
            "60000/60000 [==============================] - 5s 80us/sample - loss: 0.2257 - acc: 0.9168 - val_loss: 0.3473 - val_acc: 0.8906\n",
            "Epoch 14/30\n",
            "60000/60000 [==============================] - 5s 78us/sample - loss: 0.2174 - acc: 0.9186 - val_loss: 0.3714 - val_acc: 0.8870\n",
            "Epoch 15/30\n",
            "60000/60000 [==============================] - 5s 79us/sample - loss: 0.2086 - acc: 0.9214 - val_loss: 0.3878 - val_acc: 0.8907\n",
            "Epoch 16/30\n",
            "60000/60000 [==============================] - 5s 79us/sample - loss: 0.2038 - acc: 0.9236 - val_loss: 0.4102 - val_acc: 0.8851\n",
            "Epoch 17/30\n",
            "60000/60000 [==============================] - 5s 78us/sample - loss: 0.2044 - acc: 0.9232 - val_loss: 0.3974 - val_acc: 0.8877\n",
            "Epoch 18/30\n",
            "60000/60000 [==============================] - 5s 78us/sample - loss: 0.1978 - acc: 0.9252 - val_loss: 0.3932 - val_acc: 0.8908\n",
            "Epoch 19/30\n",
            "60000/60000 [==============================] - 5s 77us/sample - loss: 0.1903 - acc: 0.9287 - val_loss: 0.3751 - val_acc: 0.8904\n",
            "Epoch 20/30\n",
            "60000/60000 [==============================] - 5s 78us/sample - loss: 0.1847 - acc: 0.9304 - val_loss: 0.3969 - val_acc: 0.8923\n",
            "Epoch 21/30\n",
            "60000/60000 [==============================] - 5s 79us/sample - loss: 0.1843 - acc: 0.9304 - val_loss: 0.4513 - val_acc: 0.8888\n",
            "Epoch 22/30\n",
            "60000/60000 [==============================] - 5s 78us/sample - loss: 0.1846 - acc: 0.9307 - val_loss: 0.4263 - val_acc: 0.8943\n",
            "Epoch 23/30\n",
            "60000/60000 [==============================] - 5s 77us/sample - loss: 0.1778 - acc: 0.9327 - val_loss: 0.4840 - val_acc: 0.8908\n",
            "Epoch 24/30\n",
            "60000/60000 [==============================] - 5s 78us/sample - loss: 0.1797 - acc: 0.9326 - val_loss: 0.4486 - val_acc: 0.8903\n",
            "Epoch 25/30\n",
            "60000/60000 [==============================] - 5s 78us/sample - loss: 0.1729 - acc: 0.9356 - val_loss: 0.4170 - val_acc: 0.8928\n",
            "Epoch 26/30\n",
            "60000/60000 [==============================] - 5s 78us/sample - loss: 0.1732 - acc: 0.9359 - val_loss: 0.4386 - val_acc: 0.8930\n",
            "Epoch 27/30\n",
            "60000/60000 [==============================] - 5s 78us/sample - loss: 0.1611 - acc: 0.9381 - val_loss: 0.4333 - val_acc: 0.8933\n",
            "Epoch 28/30\n",
            "60000/60000 [==============================] - 5s 79us/sample - loss: 0.1591 - acc: 0.9393 - val_loss: 0.5840 - val_acc: 0.8897\n",
            "Epoch 29/30\n",
            "60000/60000 [==============================] - 5s 79us/sample - loss: 0.1609 - acc: 0.9391 - val_loss: 0.4586 - val_acc: 0.8931\n",
            "Epoch 30/30\n",
            "60000/60000 [==============================] - 5s 81us/sample - loss: 0.1560 - acc: 0.9401 - val_loss: 0.5167 - val_acc: 0.8912\n"
          ],
          "name": "stdout"
        }
      ]
    },
    {
      "cell_type": "code",
      "metadata": {
        "id": "TTSEHJwEgI7c",
        "colab_type": "code",
        "outputId": "a342a645-866e-4914-d998-d6606feccfab",
        "colab": {
          "base_uri": "https://localhost:8080/",
          "height": 295
        }
      },
      "source": [
        "history_dict = history.history\n",
        "loss_values = history_dict['loss']\n",
        "test_loss_values = history_dict['val_loss']\n",
        "epochs_range = range(1, epochs+1)\n",
        "\n",
        "plt.plot(epochs_range, loss_values, 'bo', label='Training loss')\n",
        "plt.plot(epochs_range, test_loss_values, 'ro', label='Test loss')\n",
        "plt.title('Training and test loss')\n",
        "plt.xlabel('Epochs')\n",
        "plt.ylabel('Loss')\n",
        "plt.legend()\n",
        "plt.show()"
      ],
      "execution_count": 9,
      "outputs": [
        {
          "output_type": "display_data",
          "data": {
            "image/png": "[encoded data removed]",
            "text/plain": [
              "<Figure size 432x288 with 1 Axes>"
            ]
          },
          "metadata": {
            "tags": []
          }
        }
      ]
    },
    {
      "cell_type": "code",
      "metadata": {
        "id": "w1A5j2XOgPCU",
        "colab_type": "code",
        "outputId": "8fde1d16-9f91-44f3-bfad-d96b84245eba",
        "colab": {
          "base_uri": "https://localhost:8080/",
          "height": 295
        }
      },
      "source": [
        "acc_values = history_dict['acc']\n",
        "test_acc_values = history_dict['val_acc']\n",
        "\n",
        "plt.plot(epochs_range, acc_values, 'bo', label='Training accuracy')\n",
        "plt.plot(epochs_range, test_acc_values, 'ro', label='Test accuracy')\n",
        "plt.title('Training and test accuracy')\n",
        "plt.xlabel('Epochs')\n",
        "plt.ylabel('Accuracy')\n",
        "plt.legend()\n",
        "plt.show()"
      ],
      "execution_count": 10,
      "outputs": [
        {
          "output_type": "display_data",
          "data": {
            "image/png": "[encoded data removed]",
            "text/plain": [
              "<Figure size 432x288 with 1 Axes>"
            ]
          },
          "metadata": {
            "tags": []
          }
        }
      ]
    },
    {
      "cell_type": "markdown",
      "metadata": {
        "id": "OA975wHjOJI-",
        "colab_type": "text"
      },
      "source": [
        "## Pretty Good Model\n",
        "### Uses dropout to fight overfitting"
      ]
    },
    {
      "cell_type": "code",
      "metadata": {
        "id": "ZX6SGTpMOIKN",
        "colab_type": "code",
        "outputId": "d509ef45-149d-4613-f849-666f6dc5fd18",
        "colab": {
          "base_uri": "https://localhost:8080/",
          "height": 544
        }
      },
      "source": [
        "# set up the layers\n",
        "\n",
        "model = keras.Sequential([\n",
        "    keras.layers.Flatten(input_shape=(28, 28)),\n",
        "    keras.layers.Dense(300, activation=tf.nn.relu),\n",
        "    keras.layers.Dropout(0.5),\n",
        "    keras.layers.Dense(300, activation=tf.nn.relu),\n",
        "    keras.layers.Dropout(0.4),\n",
        "    keras.layers.Dense(10, activation=tf.nn.softmax)\n",
        "])\n",
        "\n",
        "# compile the model\n",
        "\n",
        "model.compile(optimizer='adam',\n",
        "             loss='sparse_categorical_crossentropy',\n",
        "             metrics=['accuracy'])\n",
        "\n",
        "# train the model\n",
        "epochs = 15\n",
        "history = model.fit(train_images, \n",
        "                      train_labels, \n",
        "                      epochs=epochs,  \n",
        "                      validation_data=(test_images, test_labels))"
      ],
      "execution_count": 28,
      "outputs": [
        {
          "output_type": "stream",
          "text": [
            "Train on 60000 samples, validate on 10000 samples\n",
            "Epoch 1/15\n",
            "60000/60000 [==============================] - 5s 81us/sample - loss: 0.6287 - acc: 0.7711 - val_loss: 0.4529 - val_acc: 0.8388\n",
            "Epoch 2/15\n",
            "60000/60000 [==============================] - 5s 79us/sample - loss: 0.4856 - acc: 0.8237 - val_loss: 0.4304 - val_acc: 0.8466\n",
            "Epoch 3/15\n",
            "60000/60000 [==============================] - 5s 78us/sample - loss: 0.4498 - acc: 0.8375 - val_loss: 0.4131 - val_acc: 0.8428\n",
            "Epoch 4/15\n",
            "60000/60000 [==============================] - 5s 79us/sample - loss: 0.4332 - acc: 0.8433 - val_loss: 0.3929 - val_acc: 0.8595\n",
            "Epoch 5/15\n",
            "60000/60000 [==============================] - 5s 80us/sample - loss: 0.4135 - acc: 0.8496 - val_loss: 0.3970 - val_acc: 0.8557\n",
            "Epoch 6/15\n",
            "60000/60000 [==============================] - 5s 79us/sample - loss: 0.4081 - acc: 0.8521 - val_loss: 0.3722 - val_acc: 0.8650\n",
            "Epoch 7/15\n",
            "60000/60000 [==============================] - 5s 78us/sample - loss: 0.3966 - acc: 0.8569 - val_loss: 0.3758 - val_acc: 0.8638\n",
            "Epoch 8/15\n",
            "60000/60000 [==============================] - 5s 79us/sample - loss: 0.3888 - acc: 0.8592 - val_loss: 0.3729 - val_acc: 0.8688\n",
            "Epoch 9/15\n",
            "60000/60000 [==============================] - 5s 79us/sample - loss: 0.3865 - acc: 0.8590 - val_loss: 0.3895 - val_acc: 0.8591\n",
            "Epoch 10/15\n",
            "60000/60000 [==============================] - 5s 78us/sample - loss: 0.3796 - acc: 0.8634 - val_loss: 0.3709 - val_acc: 0.8691\n",
            "Epoch 11/15\n",
            "60000/60000 [==============================] - 5s 78us/sample - loss: 0.3764 - acc: 0.8643 - val_loss: 0.3617 - val_acc: 0.8740\n",
            "Epoch 12/15\n",
            "60000/60000 [==============================] - 5s 78us/sample - loss: 0.3687 - acc: 0.8670 - val_loss: 0.3585 - val_acc: 0.8673\n",
            "Epoch 13/15\n",
            "60000/60000 [==============================] - 5s 80us/sample - loss: 0.3651 - acc: 0.8668 - val_loss: 0.3622 - val_acc: 0.8710\n",
            "Epoch 14/15\n",
            "60000/60000 [==============================] - 5s 76us/sample - loss: 0.3594 - acc: 0.8682 - val_loss: 0.3598 - val_acc: 0.8733\n",
            "Epoch 15/15\n",
            "60000/60000 [==============================] - 5s 78us/sample - loss: 0.3602 - acc: 0.8690 - val_loss: 0.3617 - val_acc: 0.8729\n"
          ],
          "name": "stdout"
        }
      ]
    },
    {
      "cell_type": "code",
      "metadata": {
        "id": "rlKIF6ijOkiE",
        "colab_type": "code",
        "outputId": "a4ca43d7-2268-4ee6-df52-3788714bf3ea",
        "colab": {
          "base_uri": "https://localhost:8080/",
          "height": 51
        }
      },
      "source": [
        "test_loss, test_acc = model.evaluate(test_images, test_labels)\n",
        "\n",
        "print('Test accuracy:', test_acc)"
      ],
      "execution_count": 29,
      "outputs": [
        {
          "output_type": "stream",
          "text": [
            "10000/10000 [==============================] - 0s 47us/sample - loss: 0.3617 - acc: 0.8729\n",
            "Test accuracy: 0.8729\n"
          ],
          "name": "stdout"
        }
      ]
    },
    {
      "cell_type": "code",
      "metadata": {
        "id": "3b5OCE5YTrEc",
        "colab_type": "code",
        "colab": {}
      },
      "source": [
        "history_dict = history.history\n",
        "loss_values = history_dict['loss']\n",
        "test_loss_values = history_dict['val_loss']\n",
        "epochs_range = range(1, epochs+1)"
      ],
      "execution_count": 0,
      "outputs": []
    },
    {
      "cell_type": "code",
      "metadata": {
        "id": "y98AOblYT3Pk",
        "colab_type": "code",
        "outputId": "253cb54f-1458-4dd2-9fc5-51948f900c88",
        "colab": {
          "base_uri": "https://localhost:8080/",
          "height": 295
        }
      },
      "source": [
        "import matplotlib.pyplot as plt\n",
        "\n",
        "plt.plot(epochs_range, loss_values, 'bo', label='Training loss')\n",
        "plt.plot(epochs_range, test_loss_values, 'ro', label='Test loss')\n",
        "plt.title('Training and test loss')\n",
        "plt.xlabel('Epochs')\n",
        "plt.ylabel('Loss')\n",
        "plt.legend()\n",
        "plt.show()"
      ],
      "execution_count": 31,
      "outputs": [
        {
          "output_type": "display_data",
          "data": {
            "image/png": "[encoded data removed]",
            "text/plain": [
              "<Figure size 432x288 with 1 Axes>"
            ]
          },
          "metadata": {
            "tags": []
          }
        }
      ]
    },
    {
      "cell_type": "code",
      "metadata": {
        "id": "790AkDaTWuZU",
        "colab_type": "code",
        "colab": {}
      },
      "source": [
        "acc_values = history_dict['acc']\n",
        "test_acc_values = history_dict['val_acc']"
      ],
      "execution_count": 0,
      "outputs": []
    },
    {
      "cell_type": "code",
      "metadata": {
        "id": "7BkIfPQ4W39E",
        "colab_type": "code",
        "outputId": "0ce75d85-bdf0-4c2b-d2e9-cb222a234bed",
        "colab": {
          "base_uri": "https://localhost:8080/",
          "height": 295
        }
      },
      "source": [
        "plt.plot(epochs_range, acc_values, 'bo', label='Training accuracy')\n",
        "plt.plot(epochs_range, test_acc_values, 'ro', label='Test accuracy')\n",
        "plt.title('Training and test accuracy')\n",
        "plt.xlabel('Epochs')\n",
        "plt.ylabel('Accuracy')\n",
        "plt.legend()\n",
        "plt.show()"
      ],
      "execution_count": 33,
      "outputs": [
        {
          "output_type": "display_data",
          "data": {
            "image/png": "[encoded data removed]",
            "text/plain": [
              "<Figure size 432x288 with 1 Axes>"
            ]
          },
          "metadata": {
            "tags": []
          }
        }
      ]
    }
  ]
}